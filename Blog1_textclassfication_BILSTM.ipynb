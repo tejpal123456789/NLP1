{
  "cells": [
    {
      "cell_type": "markdown",
      "metadata": {
        "id": "view-in-github",
        "colab_type": "text"
      },
      "source": [
        "<a href=\"https://colab.research.google.com/github/tejpal123456789/NLP1/blob/main/Blog1_textclassfication_BILSTM.ipynb\" target=\"_parent\"><img src=\"https://colab.research.google.com/assets/colab-badge.svg\" alt=\"Open In Colab\"/></a>"
      ]
    },
    {
      "cell_type": "code",
      "execution_count": 1,
      "metadata": {
        "id": "uFDp4salfnMN"
      },
      "outputs": [],
      "source": [
        "# !pip install -U spacy \n",
        "# !pip install -U pandas\n",
        "# !pip install -U numpy \n"
      ]
    },
    {
      "cell_type": "code",
      "execution_count": 2,
      "metadata": {
        "colab": {
          "base_uri": "https://localhost:8080/"
        },
        "id": "M4k8XxLjfAi-",
        "outputId": "78e17b76-1f51-4e84-bf97-f2015704a62e"
      },
      "outputs": [
        {
          "output_type": "stream",
          "name": "stdout",
          "text": [
            "1.9.0+cu102\n",
            "1.3.5\n",
            "1.21.6\n",
            "3.4.4\n"
          ]
        }
      ],
      "source": [
        "import torch \n",
        "print(torch.__version__)\n",
        "import pandas as pd\n",
        "print(pd.__version__)\n",
        "import numpy as np\n",
        "print(np.__version__)\n",
        "import spacy \n",
        "print(spacy.__version__)\n",
        "from matplotlib import pyplot as plt\n",
        "import seaborn as sns\n"
      ]
    },
    {
      "cell_type": "code",
      "execution_count": 3,
      "metadata": {
        "colab": {
          "base_uri": "https://localhost:8080/",
          "height": 206
        },
        "id": "nag9sQImhWx6",
        "outputId": "44ebc3bd-eb85-432e-ce28-18aea2c84755"
      },
      "outputs": [
        {
          "output_type": "execute_result",
          "data": {
            "text/plain": [
              "   id keyword location                                               text  \\\n",
              "0   1     NaN      NaN  Our Deeds are the Reason of this #earthquake M...   \n",
              "1   4     NaN      NaN             Forest fire near La Ronge Sask. Canada   \n",
              "2   5     NaN      NaN  All residents asked to 'shelter in place' are ...   \n",
              "3   6     NaN      NaN  13,000 people receive #wildfires evacuation or...   \n",
              "4   7     NaN      NaN  Just got sent this photo from Ruby #Alaska as ...   \n",
              "\n",
              "   target  \n",
              "0       1  \n",
              "1       1  \n",
              "2       1  \n",
              "3       1  \n",
              "4       1  "
            ],
            "text/html": [
              "\n",
              "  <div id=\"df-651dab0c-5616-4710-bd59-40324c90f4ea\">\n",
              "    <div class=\"colab-df-container\">\n",
              "      <div>\n",
              "<style scoped>\n",
              "    .dataframe tbody tr th:only-of-type {\n",
              "        vertical-align: middle;\n",
              "    }\n",
              "\n",
              "    .dataframe tbody tr th {\n",
              "        vertical-align: top;\n",
              "    }\n",
              "\n",
              "    .dataframe thead th {\n",
              "        text-align: right;\n",
              "    }\n",
              "</style>\n",
              "<table border=\"1\" class=\"dataframe\">\n",
              "  <thead>\n",
              "    <tr style=\"text-align: right;\">\n",
              "      <th></th>\n",
              "      <th>id</th>\n",
              "      <th>keyword</th>\n",
              "      <th>location</th>\n",
              "      <th>text</th>\n",
              "      <th>target</th>\n",
              "    </tr>\n",
              "  </thead>\n",
              "  <tbody>\n",
              "    <tr>\n",
              "      <th>0</th>\n",
              "      <td>1</td>\n",
              "      <td>NaN</td>\n",
              "      <td>NaN</td>\n",
              "      <td>Our Deeds are the Reason of this #earthquake M...</td>\n",
              "      <td>1</td>\n",
              "    </tr>\n",
              "    <tr>\n",
              "      <th>1</th>\n",
              "      <td>4</td>\n",
              "      <td>NaN</td>\n",
              "      <td>NaN</td>\n",
              "      <td>Forest fire near La Ronge Sask. Canada</td>\n",
              "      <td>1</td>\n",
              "    </tr>\n",
              "    <tr>\n",
              "      <th>2</th>\n",
              "      <td>5</td>\n",
              "      <td>NaN</td>\n",
              "      <td>NaN</td>\n",
              "      <td>All residents asked to 'shelter in place' are ...</td>\n",
              "      <td>1</td>\n",
              "    </tr>\n",
              "    <tr>\n",
              "      <th>3</th>\n",
              "      <td>6</td>\n",
              "      <td>NaN</td>\n",
              "      <td>NaN</td>\n",
              "      <td>13,000 people receive #wildfires evacuation or...</td>\n",
              "      <td>1</td>\n",
              "    </tr>\n",
              "    <tr>\n",
              "      <th>4</th>\n",
              "      <td>7</td>\n",
              "      <td>NaN</td>\n",
              "      <td>NaN</td>\n",
              "      <td>Just got sent this photo from Ruby #Alaska as ...</td>\n",
              "      <td>1</td>\n",
              "    </tr>\n",
              "  </tbody>\n",
              "</table>\n",
              "</div>\n",
              "      <button class=\"colab-df-convert\" onclick=\"convertToInteractive('df-651dab0c-5616-4710-bd59-40324c90f4ea')\"\n",
              "              title=\"Convert this dataframe to an interactive table.\"\n",
              "              style=\"display:none;\">\n",
              "        \n",
              "  <svg xmlns=\"http://www.w3.org/2000/svg\" height=\"24px\"viewBox=\"0 0 24 24\"\n",
              "       width=\"24px\">\n",
              "    <path d=\"M0 0h24v24H0V0z\" fill=\"none\"/>\n",
              "    <path d=\"M18.56 5.44l.94 2.06.94-2.06 2.06-.94-2.06-.94-.94-2.06-.94 2.06-2.06.94zm-11 1L8.5 8.5l.94-2.06 2.06-.94-2.06-.94L8.5 2.5l-.94 2.06-2.06.94zm10 10l.94 2.06.94-2.06 2.06-.94-2.06-.94-.94-2.06-.94 2.06-2.06.94z\"/><path d=\"M17.41 7.96l-1.37-1.37c-.4-.4-.92-.59-1.43-.59-.52 0-1.04.2-1.43.59L10.3 9.45l-7.72 7.72c-.78.78-.78 2.05 0 2.83L4 21.41c.39.39.9.59 1.41.59.51 0 1.02-.2 1.41-.59l7.78-7.78 2.81-2.81c.8-.78.8-2.07 0-2.86zM5.41 20L4 18.59l7.72-7.72 1.47 1.35L5.41 20z\"/>\n",
              "  </svg>\n",
              "      </button>\n",
              "      \n",
              "  <style>\n",
              "    .colab-df-container {\n",
              "      display:flex;\n",
              "      flex-wrap:wrap;\n",
              "      gap: 12px;\n",
              "    }\n",
              "\n",
              "    .colab-df-convert {\n",
              "      background-color: #E8F0FE;\n",
              "      border: none;\n",
              "      border-radius: 50%;\n",
              "      cursor: pointer;\n",
              "      display: none;\n",
              "      fill: #1967D2;\n",
              "      height: 32px;\n",
              "      padding: 0 0 0 0;\n",
              "      width: 32px;\n",
              "    }\n",
              "\n",
              "    .colab-df-convert:hover {\n",
              "      background-color: #E2EBFA;\n",
              "      box-shadow: 0px 1px 2px rgba(60, 64, 67, 0.3), 0px 1px 3px 1px rgba(60, 64, 67, 0.15);\n",
              "      fill: #174EA6;\n",
              "    }\n",
              "\n",
              "    [theme=dark] .colab-df-convert {\n",
              "      background-color: #3B4455;\n",
              "      fill: #D2E3FC;\n",
              "    }\n",
              "\n",
              "    [theme=dark] .colab-df-convert:hover {\n",
              "      background-color: #434B5C;\n",
              "      box-shadow: 0px 1px 3px 1px rgba(0, 0, 0, 0.15);\n",
              "      filter: drop-shadow(0px 1px 2px rgba(0, 0, 0, 0.3));\n",
              "      fill: #FFFFFF;\n",
              "    }\n",
              "  </style>\n",
              "\n",
              "      <script>\n",
              "        const buttonEl =\n",
              "          document.querySelector('#df-651dab0c-5616-4710-bd59-40324c90f4ea button.colab-df-convert');\n",
              "        buttonEl.style.display =\n",
              "          google.colab.kernel.accessAllowed ? 'block' : 'none';\n",
              "\n",
              "        async function convertToInteractive(key) {\n",
              "          const element = document.querySelector('#df-651dab0c-5616-4710-bd59-40324c90f4ea');\n",
              "          const dataTable =\n",
              "            await google.colab.kernel.invokeFunction('convertToInteractive',\n",
              "                                                     [key], {});\n",
              "          if (!dataTable) return;\n",
              "\n",
              "          const docLinkHtml = 'Like what you see? Visit the ' +\n",
              "            '<a target=\"_blank\" href=https://colab.research.google.com/notebooks/data_table.ipynb>data table notebook</a>'\n",
              "            + ' to learn more about interactive tables.';\n",
              "          element.innerHTML = '';\n",
              "          dataTable['output_type'] = 'display_data';\n",
              "          await google.colab.output.renderOutput(dataTable, element);\n",
              "          const docLink = document.createElement('div');\n",
              "          docLink.innerHTML = docLinkHtml;\n",
              "          element.appendChild(docLink);\n",
              "        }\n",
              "      </script>\n",
              "    </div>\n",
              "  </div>\n",
              "  "
            ]
          },
          "metadata": {},
          "execution_count": 3
        }
      ],
      "source": [
        "\n",
        "data=pd.read_csv('/content/drive/MyDrive/NLP Blogs/NLP Dataset /Blog_1_dataset/disaster.csv')\n",
        "data.head()"
      ]
    },
    {
      "cell_type": "code",
      "execution_count": 4,
      "metadata": {
        "colab": {
          "base_uri": "https://localhost:8080/"
        },
        "id": "BoenABn9kPBk",
        "outputId": "e34de66c-da7b-438b-c553-baba360f37df"
      },
      "outputs": [
        {
          "output_type": "execute_result",
          "data": {
            "text/plain": [
              "(7613, 5)"
            ]
          },
          "metadata": {},
          "execution_count": 4
        }
      ],
      "source": [
        "data.shape"
      ]
    },
    {
      "cell_type": "code",
      "execution_count": 5,
      "metadata": {
        "colab": {
          "base_uri": "https://localhost:8080/"
        },
        "id": "IfQG951xkmjp",
        "outputId": "96e60017-09a2-44c5-8857-6d8796975081"
      },
      "outputs": [
        {
          "output_type": "execute_result",
          "data": {
            "text/plain": [
              "0    4342\n",
              "1    3271\n",
              "Name: target, dtype: int64"
            ]
          },
          "metadata": {},
          "execution_count": 5
        }
      ],
      "source": [
        "data['target'].value_counts()"
      ]
    },
    {
      "cell_type": "code",
      "execution_count": 6,
      "metadata": {
        "colab": {
          "base_uri": "https://localhost:8080/",
          "height": 36
        },
        "id": "_4le6qK9ksLN",
        "outputId": "c6d02c9d-c045-4b76-8ebf-1deadd8651d9"
      },
      "outputs": [
        {
          "output_type": "execute_result",
          "data": {
            "text/plain": [
              "'Our Deeds are the Reason of this #earthquake May ALLAH Forgive us all'"
            ],
            "application/vnd.google.colaboratory.intrinsic+json": {
              "type": "string"
            }
          },
          "metadata": {},
          "execution_count": 6
        }
      ],
      "source": [
        "data['text'][0]"
      ]
    },
    {
      "cell_type": "markdown",
      "source": [
        "# Exploratory Data Analysis\n",
        "\n",
        "Main question is what we should visualize:\n",
        "This totally depends on the domain knowledge or the problem you are solving.\n",
        "For our project I can list of some visulizations:\n",
        "a) Count plot of target [ as it is classfication problem ]\n",
        "b) We could plot histogram of length of texts for both target values [ This will help to see the relationship between the target and length of text]\n",
        "c) Could plot word clouds for both targets which will show the most frequent words used in each target\n"
      ],
      "metadata": {
        "id": "padSdICNmWTW"
      }
    },
    {
      "cell_type": "code",
      "execution_count": 7,
      "metadata": {
        "colab": {
          "base_uri": "https://localhost:8080/",
          "height": 353
        },
        "id": "xDmSf6oek4m-",
        "outputId": "920c9813-31af-45b0-923f-af0ebb285ec2"
      },
      "outputs": [
        {
          "output_type": "stream",
          "name": "stderr",
          "text": [
            "/usr/local/lib/python3.8/dist-packages/seaborn/_decorators.py:36: FutureWarning: Pass the following variable as a keyword arg: x. From version 0.12, the only valid positional argument will be `data`, and passing other arguments without an explicit keyword will result in an error or misinterpretation.\n",
            "  warnings.warn(\n"
          ]
        },
        {
          "output_type": "execute_result",
          "data": {
            "text/plain": [
              "<matplotlib.axes._subplots.AxesSubplot at 0x7fa8ed980490>"
            ]
          },
          "metadata": {},
          "execution_count": 7
        },
        {
          "output_type": "display_data",
          "data": {
            "text/plain": [
              "<Figure size 432x288 with 1 Axes>"
            ],
            "image/png": "[encoded data removed]"
          },
          "metadata": {
            "needs_background": "light"
          }
        }
      ],
      "source": [
        "sns.countplot(data['target'])"
      ]
    },
    {
      "cell_type": "code",
      "source": [],
      "metadata": {
        "id": "_48_uQTq6IiN"
      },
      "execution_count": 7,
      "outputs": []
    },
    {
      "cell_type": "code",
      "source": [
        "\n",
        "# Visualize word cloud : \n",
        "def create_corpus_of_target(data,target):\n",
        "    corpus=[]\n",
        "    for x in data[data['target']==target].text.str.split():\n",
        "        for i in x:\n",
        "            corpus.append(i)\n",
        "    return corpus         \n",
        "\n"
      ],
      "metadata": {
        "id": "OUXPbaRtmro9"
      },
      "execution_count": 8,
      "outputs": []
    },
    {
      "cell_type": "code",
      "source": [
        "\n",
        "from wordcloud import WordCloud\n",
        "corpus0=create_corpus_of_target(data,0)\n",
        "corpus1=create_corpus_of_target(data,1)\n",
        "\n",
        "word_cloud_corpus0=WordCloud(background_color='white',max_font_size=80).generate(' '.join(corpus0[:50]))\n",
        "\n",
        "\n",
        "word_cloud_corpus1=WordCloud(background_color='white',max_font_size=80).generate(' '.join(corpus1[:50]))"
      ],
      "metadata": {
        "id": "2cPdijjm6lm8"
      },
      "execution_count": 9,
      "outputs": []
    },
    {
      "cell_type": "code",
      "source": [
        "plt.figure(figsize=(16,4))\n",
        "plt.imshow(word_cloud_corpus0)\n",
        "plt.title('WORDCLOUD FOR NONDISASTER DATA')\n"
      ],
      "metadata": {
        "colab": {
          "base_uri": "https://localhost:8080/",
          "height": 299
        },
        "id": "tBVgCsRW6yTs",
        "outputId": "946682c3-fc0b-4822-9fc7-deb7c0cbb410"
      },
      "execution_count": 10,
      "outputs": [
        {
          "output_type": "execute_result",
          "data": {
            "text/plain": [
              "Text(0.5, 1.0, 'WORDCLOUD FOR NONDISASTER DATA')"
            ]
          },
          "metadata": {},
          "execution_count": 10
        },
        {
          "output_type": "display_data",
          "data": {
            "text/plain": [
              "<Figure size 1152x288 with 1 Axes>"
            ],
            "image/png": "[encoded data removed]"
          },
          "metadata": {
            "needs_background": "light"
          }
        }
      ]
    },
    {
      "cell_type": "code",
      "source": [
        "plt.figure(figsize=(16,4))\n",
        "plt.imshow(word_cloud_corpus1)\n",
        "plt.title('WORDCLOUD FOR DISASTER DATA')\n"
      ],
      "metadata": {
        "colab": {
          "base_uri": "https://localhost:8080/",
          "height": 299
        },
        "id": "acyAQ5tk67PI",
        "outputId": "3ee8b3d4-1392-4ca2-8625-c65f0b9edacf"
      },
      "execution_count": 11,
      "outputs": [
        {
          "output_type": "execute_result",
          "data": {
            "text/plain": [
              "Text(0.5, 1.0, 'WORDCLOUD FOR DISASTER DATA')"
            ]
          },
          "metadata": {},
          "execution_count": 11
        },
        {
          "output_type": "display_data",
          "data": {
            "text/plain": [
              "<Figure size 1152x288 with 1 Axes>"
            ],
            "image/png": "[encoded data removed]"
          },
          "metadata": {
            "needs_background": "light"
          }
        }
      ]
    },
    {
      "cell_type": "markdown",
      "source": [
        "# feature Engineering in NLP\n",
        "\n",
        "This is a very critical step in natural language processesing project, how to do feature engineering ?\n",
        "In NLP we have text, we need to think of ways through which we generate more features for each text. Again This is a domain specific problem. For our project , I can list of some ways of feature generation \n",
        "\n",
        "1. Length of each text in the dataset \n",
        "2. Number of words per text \n",
        "3. No. of unique words per text\n",
        "4. Number of punctutions per text could be one column\n",
        "5. and many more according to problem statement we have to consult which domain expert and product manager for this analysis.\n"
      ],
      "metadata": {
        "id": "W4lWkCfQ7g6l"
      }
    },
    {
      "cell_type": "code",
      "source": [
        "# Length of each text\n",
        "data['text length']=data['text'].apply(lambda x: len(x))\n"
      ],
      "metadata": {
        "id": "5oFSQ7NW7ELR"
      },
      "execution_count": 12,
      "outputs": []
    },
    {
      "cell_type": "code",
      "source": [
        "# number of words in each text \n",
        "data['word count']=data['text'].apply(lambda x: len(x.split()))\n",
        "\n"
      ],
      "metadata": {
        "id": "xAg70yTJ7WwJ"
      },
      "execution_count": 13,
      "outputs": []
    },
    {
      "cell_type": "code",
      "source": [
        "# Number of unique words per text: \n",
        "data['unique_words']=data['text'].apply(lambda x: len(set(str(x).split())))\n"
      ],
      "metadata": {
        "id": "yhX09Lh77WzD"
      },
      "execution_count": 14,
      "outputs": []
    },
    {
      "cell_type": "code",
      "source": [
        "import string\n",
        "     \n",
        "\n",
        "data['number of punctuations']=data['text'].apply(lambda x: len([y for y in x if y in string.punctuation]))\n",
        "data.head()\n"
      ],
      "metadata": {
        "colab": {
          "base_uri": "https://localhost:8080/",
          "height": 441
        },
        "id": "7JR0BOMK7W2e",
        "outputId": "283b46ca-edaa-46fd-8cf9-b1a89db27a60"
      },
      "execution_count": 15,
      "outputs": [
        {
          "output_type": "execute_result",
          "data": {
            "text/plain": [
              "   id keyword location                                               text  \\\n",
              "0   1     NaN      NaN  Our Deeds are the Reason of this #earthquake M...   \n",
              "1   4     NaN      NaN             Forest fire near La Ronge Sask. Canada   \n",
              "2   5     NaN      NaN  All residents asked to 'shelter in place' are ...   \n",
              "3   6     NaN      NaN  13,000 people receive #wildfires evacuation or...   \n",
              "4   7     NaN      NaN  Just got sent this photo from Ruby #Alaska as ...   \n",
              "\n",
              "   target  text length  word count  unique_words  number of punctuations  \n",
              "0       1           69          13            13                       1  \n",
              "1       1           38           7             7                       1  \n",
              "2       1          133          22            20                       3  \n",
              "3       1           65           8             8                       2  \n",
              "4       1           88          16            15                       2  "
            ],
            "text/html": [
              "\n",
              "  <div id=\"df-f8f7047b-af0f-419b-8060-8db9fe249727\">\n",
              "    <div class=\"colab-df-container\">\n",
              "      <div>\n",
              "<style scoped>\n",
              "    .dataframe tbody tr th:only-of-type {\n",
              "        vertical-align: middle;\n",
              "    }\n",
              "\n",
              "    .dataframe tbody tr th {\n",
              "        vertical-align: top;\n",
              "    }\n",
              "\n",
              "    .dataframe thead th {\n",
              "        text-align: right;\n",
              "    }\n",
              "</style>\n",
              "<table border=\"1\" class=\"dataframe\">\n",
              "  <thead>\n",
              "    <tr style=\"text-align: right;\">\n",
              "      <th></th>\n",
              "      <th>id</th>\n",
              "      <th>keyword</th>\n",
              "      <th>location</th>\n",
              "      <th>text</th>\n",
              "      <th>target</th>\n",
              "      <th>text length</th>\n",
              "      <th>word count</th>\n",
              "      <th>unique_words</th>\n",
              "      <th>number of punctuations</th>\n",
              "    </tr>\n",
              "  </thead>\n",
              "  <tbody>\n",
              "    <tr>\n",
              "      <th>0</th>\n",
              "      <td>1</td>\n",
              "      <td>NaN</td>\n",
              "      <td>NaN</td>\n",
              "      <td>Our Deeds are the Reason of this #earthquake M...</td>\n",
              "      <td>1</td>\n",
              "      <td>69</td>\n",
              "      <td>13</td>\n",
              "      <td>13</td>\n",
              "      <td>1</td>\n",
              "    </tr>\n",
              "    <tr>\n",
              "      <th>1</th>\n",
              "      <td>4</td>\n",
              "      <td>NaN</td>\n",
              "      <td>NaN</td>\n",
              "      <td>Forest fire near La Ronge Sask. Canada</td>\n",
              "      <td>1</td>\n",
              "      <td>38</td>\n",
              "      <td>7</td>\n",
              "      <td>7</td>\n",
              "      <td>1</td>\n",
              "    </tr>\n",
              "    <tr>\n",
              "      <th>2</th>\n",
              "      <td>5</td>\n",
              "      <td>NaN</td>\n",
              "      <td>NaN</td>\n",
              "      <td>All residents asked to 'shelter in place' are ...</td>\n",
              "      <td>1</td>\n",
              "      <td>133</td>\n",
              "      <td>22</td>\n",
              "      <td>20</td>\n",
              "      <td>3</td>\n",
              "    </tr>\n",
              "    <tr>\n",
              "      <th>3</th>\n",
              "      <td>6</td>\n",
              "      <td>NaN</td>\n",
              "      <td>NaN</td>\n",
              "      <td>13,000 people receive #wildfires evacuation or...</td>\n",
              "      <td>1</td>\n",
              "      <td>65</td>\n",
              "      <td>8</td>\n",
              "      <td>8</td>\n",
              "      <td>2</td>\n",
              "    </tr>\n",
              "    <tr>\n",
              "      <th>4</th>\n",
              "      <td>7</td>\n",
              "      <td>NaN</td>\n",
              "      <td>NaN</td>\n",
              "      <td>Just got sent this photo from Ruby #Alaska as ...</td>\n",
              "      <td>1</td>\n",
              "      <td>88</td>\n",
              "      <td>16</td>\n",
              "      <td>15</td>\n",
              "      <td>2</td>\n",
              "    </tr>\n",
              "  </tbody>\n",
              "</table>\n",
              "</div>\n",
              "      <button class=\"colab-df-convert\" onclick=\"convertToInteractive('df-f8f7047b-af0f-419b-8060-8db9fe249727')\"\n",
              "              title=\"Convert this dataframe to an interactive table.\"\n",
              "              style=\"display:none;\">\n",
              "        \n",
              "  <svg xmlns=\"http://www.w3.org/2000/svg\" height=\"24px\"viewBox=\"0 0 24 24\"\n",
              "       width=\"24px\">\n",
              "    <path d=\"M0 0h24v24H0V0z\" fill=\"none\"/>\n",
              "    <path d=\"M18.56 5.44l.94 2.06.94-2.06 2.06-.94-2.06-.94-.94-2.06-.94 2.06-2.06.94zm-11 1L8.5 8.5l.94-2.06 2.06-.94-2.06-.94L8.5 2.5l-.94 2.06-2.06.94zm10 10l.94 2.06.94-2.06 2.06-.94-2.06-.94-.94-2.06-.94 2.06-2.06.94z\"/><path d=\"M17.41 7.96l-1.37-1.37c-.4-.4-.92-.59-1.43-.59-.52 0-1.04.2-1.43.59L10.3 9.45l-7.72 7.72c-.78.78-.78 2.05 0 2.83L4 21.41c.39.39.9.59 1.41.59.51 0 1.02-.2 1.41-.59l7.78-7.78 2.81-2.81c.8-.78.8-2.07 0-2.86zM5.41 20L4 18.59l7.72-7.72 1.47 1.35L5.41 20z\"/>\n",
              "  </svg>\n",
              "      </button>\n",
              "      \n",
              "  <style>\n",
              "    .colab-df-container {\n",
              "      display:flex;\n",
              "      flex-wrap:wrap;\n",
              "      gap: 12px;\n",
              "    }\n",
              "\n",
              "    .colab-df-convert {\n",
              "      background-color: #E8F0FE;\n",
              "      border: none;\n",
              "      border-radius: 50%;\n",
              "      cursor: pointer;\n",
              "      display: none;\n",
              "      fill: #1967D2;\n",
              "      height: 32px;\n",
              "      padding: 0 0 0 0;\n",
              "      width: 32px;\n",
              "    }\n",
              "\n",
              "    .colab-df-convert:hover {\n",
              "      background-color: #E2EBFA;\n",
              "      box-shadow: 0px 1px 2px rgba(60, 64, 67, 0.3), 0px 1px 3px 1px rgba(60, 64, 67, 0.15);\n",
              "      fill: #174EA6;\n",
              "    }\n",
              "\n",
              "    [theme=dark] .colab-df-convert {\n",
              "      background-color: #3B4455;\n",
              "      fill: #D2E3FC;\n",
              "    }\n",
              "\n",
              "    [theme=dark] .colab-df-convert:hover {\n",
              "      background-color: #434B5C;\n",
              "      box-shadow: 0px 1px 3px 1px rgba(0, 0, 0, 0.15);\n",
              "      filter: drop-shadow(0px 1px 2px rgba(0, 0, 0, 0.3));\n",
              "      fill: #FFFFFF;\n",
              "    }\n",
              "  </style>\n",
              "\n",
              "      <script>\n",
              "        const buttonEl =\n",
              "          document.querySelector('#df-f8f7047b-af0f-419b-8060-8db9fe249727 button.colab-df-convert');\n",
              "        buttonEl.style.display =\n",
              "          google.colab.kernel.accessAllowed ? 'block' : 'none';\n",
              "\n",
              "        async function convertToInteractive(key) {\n",
              "          const element = document.querySelector('#df-f8f7047b-af0f-419b-8060-8db9fe249727');\n",
              "          const dataTable =\n",
              "            await google.colab.kernel.invokeFunction('convertToInteractive',\n",
              "                                                     [key], {});\n",
              "          if (!dataTable) return;\n",
              "\n",
              "          const docLinkHtml = 'Like what you see? Visit the ' +\n",
              "            '<a target=\"_blank\" href=https://colab.research.google.com/notebooks/data_table.ipynb>data table notebook</a>'\n",
              "            + ' to learn more about interactive tables.';\n",
              "          element.innerHTML = '';\n",
              "          dataTable['output_type'] = 'display_data';\n",
              "          await google.colab.output.renderOutput(dataTable, element);\n",
              "          const docLink = document.createElement('div');\n",
              "          docLink.innerHTML = docLinkHtml;\n",
              "          element.appendChild(docLink);\n",
              "        }\n",
              "      </script>\n",
              "    </div>\n",
              "  </div>\n",
              "  "
            ]
          },
          "metadata": {},
          "execution_count": 15
        }
      ]
    },
    {
      "cell_type": "markdown",
      "source": [
        "# text cleaning"
      ],
      "metadata": {
        "id": "5JggViIPEH3h"
      }
    },
    {
      "cell_type": "code",
      "source": [
        "# We will remove stopwords \n",
        "# remove http,html\n",
        "# remove emoji\n",
        "# remove punctuation\n",
        "# lower case the whole senetence \n",
        "# use of lematizer\n",
        "import re\n",
        "\n",
        "import nltk\n",
        "nltk.download('punkt')\n",
        "nltk.download('stopwords')\n",
        "from nltk.corpus import stopwords\n",
        "stop=set(stopwords.words('english'))\n",
        "\n",
        "def cleanhtml(text):\n",
        "  cleanr = re.compile('<.*?>')\n",
        "  cleantext = re.sub(cleanr, '', text)\n",
        "  return cleantext\n",
        "\n",
        "def remove_http(text):\n",
        "    text1=re.sub(r'http\\S+', '', text)\n",
        "    return text1\n",
        "\n",
        "def deEmojify(text):\n",
        "    regrex_pattern = re.compile(pattern = \"[\"\n",
        "        u\"\\U0001F600-\\U0001F64F\"  # emoticons\n",
        "        u\"\\U0001F300-\\U0001F5FF\"  # symbols & pictographs\n",
        "        u\"\\U0001F680-\\U0001F6FF\"  # transport & map symbols\n",
        "        u\"\\U0001F1E0-\\U0001F1FF\"  # flags (iOS)\n",
        "                           \"]+\", flags = re.UNICODE)\n",
        "    return regrex_pattern.sub(r'',text)\n",
        "\n",
        "\n",
        "def remove_punc(text):\n",
        "    table=str.maketrans('','',string.punctuation)\n",
        "    return text.translate(table)\n",
        "\n",
        "def remove_stopwords(text):\n",
        "    text=[word.lower() for word in text.split() if word not  in stop]\n",
        "    return \" \".join(text)\n",
        "\n",
        "    \n",
        "\n",
        "data['text']=data['text'].apply(lambda x: remove_http(x))\n",
        "data['text']=data['text'].apply(lambda x: remove_punc(x))\n",
        "data['text']=data['text'].apply(lambda x: deEmojify(x))\n",
        "data['text']=data['text'].apply(lambda x: cleanhtml(x))\n",
        "data['text']=data['text'].apply(lambda x: remove_stopwords(x))\n",
        "data.head()"
      ],
      "metadata": {
        "colab": {
          "base_uri": "https://localhost:8080/",
          "height": 512
        },
        "id": "1lpKG0vABZNc",
        "outputId": "d1db9f62-c610-4646-e90c-4e983c42a328"
      },
      "execution_count": 16,
      "outputs": [
        {
          "output_type": "stream",
          "name": "stderr",
          "text": [
            "[nltk_data] Downloading package punkt to /root/nltk_data...\n",
            "[nltk_data]   Package punkt is already up-to-date!\n",
            "[nltk_data] Downloading package stopwords to /root/nltk_data...\n",
            "[nltk_data]   Package stopwords is already up-to-date!\n"
          ]
        },
        {
          "output_type": "execute_result",
          "data": {
            "text/plain": [
              "   id keyword location                                               text  \\\n",
              "0   1     NaN      NaN   our deeds reason earthquake may allah forgive us   \n",
              "1   4     NaN      NaN              forest fire near la ronge sask canada   \n",
              "2   5     NaN      NaN  all residents asked shelter place notified off...   \n",
              "3   6     NaN      NaN  13000 people receive wildfires evacuation orde...   \n",
              "4   7     NaN      NaN  just got sent photo ruby alaska smoke wildfire...   \n",
              "\n",
              "   target  text length  word count  unique_words  number of punctuations  \n",
              "0       1           69          13            13                       1  \n",
              "1       1           38           7             7                       1  \n",
              "2       1          133          22            20                       3  \n",
              "3       1           65           8             8                       2  \n",
              "4       1           88          16            15                       2  "
            ],
            "text/html": [
              "\n",
              "  <div id=\"df-30382a0d-06ef-402f-8caf-9bfafc40a612\">\n",
              "    <div class=\"colab-df-container\">\n",
              "      <div>\n",
              "<style scoped>\n",
              "    .dataframe tbody tr th:only-of-type {\n",
              "        vertical-align: middle;\n",
              "    }\n",
              "\n",
              "    .dataframe tbody tr th {\n",
              "        vertical-align: top;\n",
              "    }\n",
              "\n",
              "    .dataframe thead th {\n",
              "        text-align: right;\n",
              "    }\n",
              "</style>\n",
              "<table border=\"1\" class=\"dataframe\">\n",
              "  <thead>\n",
              "    <tr style=\"text-align: right;\">\n",
              "      <th></th>\n",
              "      <th>id</th>\n",
              "      <th>keyword</th>\n",
              "      <th>location</th>\n",
              "      <th>text</th>\n",
              "      <th>target</th>\n",
              "      <th>text length</th>\n",
              "      <th>word count</th>\n",
              "      <th>unique_words</th>\n",
              "      <th>number of punctuations</th>\n",
              "    </tr>\n",
              "  </thead>\n",
              "  <tbody>\n",
              "    <tr>\n",
              "      <th>0</th>\n",
              "      <td>1</td>\n",
              "      <td>NaN</td>\n",
              "      <td>NaN</td>\n",
              "      <td>our deeds reason earthquake may allah forgive us</td>\n",
              "      <td>1</td>\n",
              "      <td>69</td>\n",
              "      <td>13</td>\n",
              "      <td>13</td>\n",
              "      <td>1</td>\n",
              "    </tr>\n",
              "    <tr>\n",
              "      <th>1</th>\n",
              "      <td>4</td>\n",
              "      <td>NaN</td>\n",
              "      <td>NaN</td>\n",
              "      <td>forest fire near la ronge sask canada</td>\n",
              "      <td>1</td>\n",
              "      <td>38</td>\n",
              "      <td>7</td>\n",
              "      <td>7</td>\n",
              "      <td>1</td>\n",
              "    </tr>\n",
              "    <tr>\n",
              "      <th>2</th>\n",
              "      <td>5</td>\n",
              "      <td>NaN</td>\n",
              "      <td>NaN</td>\n",
              "      <td>all residents asked shelter place notified off...</td>\n",
              "      <td>1</td>\n",
              "      <td>133</td>\n",
              "      <td>22</td>\n",
              "      <td>20</td>\n",
              "      <td>3</td>\n",
              "    </tr>\n",
              "    <tr>\n",
              "      <th>3</th>\n",
              "      <td>6</td>\n",
              "      <td>NaN</td>\n",
              "      <td>NaN</td>\n",
              "      <td>13000 people receive wildfires evacuation orde...</td>\n",
              "      <td>1</td>\n",
              "      <td>65</td>\n",
              "      <td>8</td>\n",
              "      <td>8</td>\n",
              "      <td>2</td>\n",
              "    </tr>\n",
              "    <tr>\n",
              "      <th>4</th>\n",
              "      <td>7</td>\n",
              "      <td>NaN</td>\n",
              "      <td>NaN</td>\n",
              "      <td>just got sent photo ruby alaska smoke wildfire...</td>\n",
              "      <td>1</td>\n",
              "      <td>88</td>\n",
              "      <td>16</td>\n",
              "      <td>15</td>\n",
              "      <td>2</td>\n",
              "    </tr>\n",
              "  </tbody>\n",
              "</table>\n",
              "</div>\n",
              "      <button class=\"colab-df-convert\" onclick=\"convertToInteractive('df-30382a0d-06ef-402f-8caf-9bfafc40a612')\"\n",
              "              title=\"Convert this dataframe to an interactive table.\"\n",
              "              style=\"display:none;\">\n",
              "        \n",
              "  <svg xmlns=\"http://www.w3.org/2000/svg\" height=\"24px\"viewBox=\"0 0 24 24\"\n",
              "       width=\"24px\">\n",
              "    <path d=\"M0 0h24v24H0V0z\" fill=\"none\"/>\n",
              "    <path d=\"M18.56 5.44l.94 2.06.94-2.06 2.06-.94-2.06-.94-.94-2.06-.94 2.06-2.06.94zm-11 1L8.5 8.5l.94-2.06 2.06-.94-2.06-.94L8.5 2.5l-.94 2.06-2.06.94zm10 10l.94 2.06.94-2.06 2.06-.94-2.06-.94-.94-2.06-.94 2.06-2.06.94z\"/><path d=\"M17.41 7.96l-1.37-1.37c-.4-.4-.92-.59-1.43-.59-.52 0-1.04.2-1.43.59L10.3 9.45l-7.72 7.72c-.78.78-.78 2.05 0 2.83L4 21.41c.39.39.9.59 1.41.59.51 0 1.02-.2 1.41-.59l7.78-7.78 2.81-2.81c.8-.78.8-2.07 0-2.86zM5.41 20L4 18.59l7.72-7.72 1.47 1.35L5.41 20z\"/>\n",
              "  </svg>\n",
              "      </button>\n",
              "      \n",
              "  <style>\n",
              "    .colab-df-container {\n",
              "      display:flex;\n",
              "      flex-wrap:wrap;\n",
              "      gap: 12px;\n",
              "    }\n",
              "\n",
              "    .colab-df-convert {\n",
              "      background-color: #E8F0FE;\n",
              "      border: none;\n",
              "      border-radius: 50%;\n",
              "      cursor: pointer;\n",
              "      display: none;\n",
              "      fill: #1967D2;\n",
              "      height: 32px;\n",
              "      padding: 0 0 0 0;\n",
              "      width: 32px;\n",
              "    }\n",
              "\n",
              "    .colab-df-convert:hover {\n",
              "      background-color: #E2EBFA;\n",
              "      box-shadow: 0px 1px 2px rgba(60, 64, 67, 0.3), 0px 1px 3px 1px rgba(60, 64, 67, 0.15);\n",
              "      fill: #174EA6;\n",
              "    }\n",
              "\n",
              "    [theme=dark] .colab-df-convert {\n",
              "      background-color: #3B4455;\n",
              "      fill: #D2E3FC;\n",
              "    }\n",
              "\n",
              "    [theme=dark] .colab-df-convert:hover {\n",
              "      background-color: #434B5C;\n",
              "      box-shadow: 0px 1px 3px 1px rgba(0, 0, 0, 0.15);\n",
              "      filter: drop-shadow(0px 1px 2px rgba(0, 0, 0, 0.3));\n",
              "      fill: #FFFFFF;\n",
              "    }\n",
              "  </style>\n",
              "\n",
              "      <script>\n",
              "        const buttonEl =\n",
              "          document.querySelector('#df-30382a0d-06ef-402f-8caf-9bfafc40a612 button.colab-df-convert');\n",
              "        buttonEl.style.display =\n",
              "          google.colab.kernel.accessAllowed ? 'block' : 'none';\n",
              "\n",
              "        async function convertToInteractive(key) {\n",
              "          const element = document.querySelector('#df-30382a0d-06ef-402f-8caf-9bfafc40a612');\n",
              "          const dataTable =\n",
              "            await google.colab.kernel.invokeFunction('convertToInteractive',\n",
              "                                                     [key], {});\n",
              "          if (!dataTable) return;\n",
              "\n",
              "          const docLinkHtml = 'Like what you see? Visit the ' +\n",
              "            '<a target=\"_blank\" href=https://colab.research.google.com/notebooks/data_table.ipynb>data table notebook</a>'\n",
              "            + ' to learn more about interactive tables.';\n",
              "          element.innerHTML = '';\n",
              "          dataTable['output_type'] = 'display_data';\n",
              "          await google.colab.output.renderOutput(dataTable, element);\n",
              "          const docLink = document.createElement('div');\n",
              "          docLink.innerHTML = docLinkHtml;\n",
              "          element.appendChild(docLink);\n",
              "        }\n",
              "      </script>\n",
              "    </div>\n",
              "  </div>\n",
              "  "
            ]
          },
          "metadata": {},
          "execution_count": 16
        }
      ]
    },
    {
      "cell_type": "code",
      "source": [
        "!python -m spacy download en_core_web_sm\n",
        "spacy_eng = spacy.load(\"en_core_web_sm\")"
      ],
      "metadata": {
        "colab": {
          "base_uri": "https://localhost:8080/"
        },
        "id": "0WqI0JZTa1-z",
        "outputId": "935461d5-0c08-4d2b-d329-b65cc31ebb3b"
      },
      "execution_count": 17,
      "outputs": [
        {
          "output_type": "stream",
          "name": "stdout",
          "text": [
            "2023-02-06 12:38:38.282148: E tensorflow/stream_executor/cuda/cuda_driver.cc:271] failed call to cuInit: CUDA_ERROR_NO_DEVICE: no CUDA-capable device is detected\n",
            "Looking in indexes: https://pypi.org/simple, https://us-python.pkg.dev/colab-wheels/public/simple/\n",
            "Collecting en-core-web-sm==3.4.1\n",
            "  Downloading https://github.com/explosion/spacy-models/releases/download/en_core_web_sm-3.4.1/en_core_web_sm-3.4.1-py3-none-any.whl (12.8 MB)\n",
            "\u001b[2K     \u001b[90m━━━━━━━━━━━━━━━━━━━━━━━━━━━━━━━━━━━━━━━━\u001b[0m \u001b[32m12.8/12.8 MB\u001b[0m \u001b[31m47.3 MB/s\u001b[0m eta \u001b[36m0:00:00\u001b[0m\n",
            "\u001b[?25hRequirement already satisfied: spacy<3.5.0,>=3.4.0 in /usr/local/lib/python3.8/dist-packages (from en-core-web-sm==3.4.1) (3.4.4)\n",
            "Requirement already satisfied: tqdm<5.0.0,>=4.38.0 in /usr/local/lib/python3.8/dist-packages (from spacy<3.5.0,>=3.4.0->en-core-web-sm==3.4.1) (4.64.1)\n",
            "Requirement already satisfied: spacy-loggers<2.0.0,>=1.0.0 in /usr/local/lib/python3.8/dist-packages (from spacy<3.5.0,>=3.4.0->en-core-web-sm==3.4.1) (1.0.4)\n",
            "Requirement already satisfied: packaging>=20.0 in /usr/local/lib/python3.8/dist-packages (from spacy<3.5.0,>=3.4.0->en-core-web-sm==3.4.1) (23.0)\n",
            "Requirement already satisfied: srsly<3.0.0,>=2.4.3 in /usr/local/lib/python3.8/dist-packages (from spacy<3.5.0,>=3.4.0->en-core-web-sm==3.4.1) (2.4.5)\n",
            "Requirement already satisfied: setuptools in /usr/local/lib/python3.8/dist-packages (from spacy<3.5.0,>=3.4.0->en-core-web-sm==3.4.1) (57.4.0)\n",
            "Requirement already satisfied: numpy>=1.15.0 in /usr/local/lib/python3.8/dist-packages (from spacy<3.5.0,>=3.4.0->en-core-web-sm==3.4.1) (1.21.6)\n",
            "Requirement already satisfied: spacy-legacy<3.1.0,>=3.0.10 in /usr/local/lib/python3.8/dist-packages (from spacy<3.5.0,>=3.4.0->en-core-web-sm==3.4.1) (3.0.12)\n",
            "Requirement already satisfied: pathy>=0.3.5 in /usr/local/lib/python3.8/dist-packages (from spacy<3.5.0,>=3.4.0->en-core-web-sm==3.4.1) (0.10.1)\n",
            "Requirement already satisfied: catalogue<2.1.0,>=2.0.6 in /usr/local/lib/python3.8/dist-packages (from spacy<3.5.0,>=3.4.0->en-core-web-sm==3.4.1) (2.0.8)\n",
            "Requirement already satisfied: langcodes<4.0.0,>=3.2.0 in /usr/local/lib/python3.8/dist-packages (from spacy<3.5.0,>=3.4.0->en-core-web-sm==3.4.1) (3.3.0)\n",
            "Requirement already satisfied: thinc<8.2.0,>=8.1.0 in /usr/local/lib/python3.8/dist-packages (from spacy<3.5.0,>=3.4.0->en-core-web-sm==3.4.1) (8.1.7)\n",
            "Requirement already satisfied: murmurhash<1.1.0,>=0.28.0 in /usr/local/lib/python3.8/dist-packages (from spacy<3.5.0,>=3.4.0->en-core-web-sm==3.4.1) (1.0.9)\n",
            "Requirement already satisfied: jinja2 in /usr/local/lib/python3.8/dist-packages (from spacy<3.5.0,>=3.4.0->en-core-web-sm==3.4.1) (2.11.3)\n",
            "Requirement already satisfied: preshed<3.1.0,>=3.0.2 in /usr/local/lib/python3.8/dist-packages (from spacy<3.5.0,>=3.4.0->en-core-web-sm==3.4.1) (3.0.8)\n",
            "Requirement already satisfied: requests<3.0.0,>=2.13.0 in /usr/local/lib/python3.8/dist-packages (from spacy<3.5.0,>=3.4.0->en-core-web-sm==3.4.1) (2.25.1)\n",
            "Requirement already satisfied: wasabi<1.1.0,>=0.9.1 in /usr/local/lib/python3.8/dist-packages (from spacy<3.5.0,>=3.4.0->en-core-web-sm==3.4.1) (0.10.1)\n",
            "Requirement already satisfied: pydantic!=1.8,!=1.8.1,<1.11.0,>=1.7.4 in /usr/local/lib/python3.8/dist-packages (from spacy<3.5.0,>=3.4.0->en-core-web-sm==3.4.1) (1.10.4)\n",
            "Requirement already satisfied: cymem<2.1.0,>=2.0.2 in /usr/local/lib/python3.8/dist-packages (from spacy<3.5.0,>=3.4.0->en-core-web-sm==3.4.1) (2.0.7)\n",
            "Requirement already satisfied: smart-open<7.0.0,>=5.2.1 in /usr/local/lib/python3.8/dist-packages (from spacy<3.5.0,>=3.4.0->en-core-web-sm==3.4.1) (6.3.0)\n",
            "Requirement already satisfied: typer<0.8.0,>=0.3.0 in /usr/local/lib/python3.8/dist-packages (from spacy<3.5.0,>=3.4.0->en-core-web-sm==3.4.1) (0.7.0)\n",
            "Requirement already satisfied: typing-extensions>=4.2.0 in /usr/local/lib/python3.8/dist-packages (from pydantic!=1.8,!=1.8.1,<1.11.0,>=1.7.4->spacy<3.5.0,>=3.4.0->en-core-web-sm==3.4.1) (4.4.0)\n",
            "Requirement already satisfied: idna<3,>=2.5 in /usr/local/lib/python3.8/dist-packages (from requests<3.0.0,>=2.13.0->spacy<3.5.0,>=3.4.0->en-core-web-sm==3.4.1) (2.10)\n",
            "Requirement already satisfied: urllib3<1.27,>=1.21.1 in /usr/local/lib/python3.8/dist-packages (from requests<3.0.0,>=2.13.0->spacy<3.5.0,>=3.4.0->en-core-web-sm==3.4.1) (1.24.3)\n",
            "Requirement already satisfied: chardet<5,>=3.0.2 in /usr/local/lib/python3.8/dist-packages (from requests<3.0.0,>=2.13.0->spacy<3.5.0,>=3.4.0->en-core-web-sm==3.4.1) (4.0.0)\n",
            "Requirement already satisfied: certifi>=2017.4.17 in /usr/local/lib/python3.8/dist-packages (from requests<3.0.0,>=2.13.0->spacy<3.5.0,>=3.4.0->en-core-web-sm==3.4.1) (2022.12.7)\n",
            "Requirement already satisfied: blis<0.8.0,>=0.7.8 in /usr/local/lib/python3.8/dist-packages (from thinc<8.2.0,>=8.1.0->spacy<3.5.0,>=3.4.0->en-core-web-sm==3.4.1) (0.7.9)\n",
            "Requirement already satisfied: confection<1.0.0,>=0.0.1 in /usr/local/lib/python3.8/dist-packages (from thinc<8.2.0,>=8.1.0->spacy<3.5.0,>=3.4.0->en-core-web-sm==3.4.1) (0.0.4)\n",
            "Requirement already satisfied: click<9.0.0,>=7.1.1 in /usr/local/lib/python3.8/dist-packages (from typer<0.8.0,>=0.3.0->spacy<3.5.0,>=3.4.0->en-core-web-sm==3.4.1) (7.1.2)\n",
            "Requirement already satisfied: MarkupSafe>=0.23 in /usr/local/lib/python3.8/dist-packages (from jinja2->spacy<3.5.0,>=3.4.0->en-core-web-sm==3.4.1) (2.0.1)\n",
            "\u001b[38;5;2m✔ Download and installation successful\u001b[0m\n",
            "You can now load the package via spacy.load('en_core_web_sm')\n"
          ]
        }
      ]
    },
    {
      "cell_type": "code",
      "source": [
        "!pip install torchtext==0.10.0"
      ],
      "metadata": {
        "colab": {
          "base_uri": "https://localhost:8080/"
        },
        "id": "HPm_l4gfgUNU",
        "outputId": "62a962ba-b69f-4eac-b463-5e615d982893"
      },
      "execution_count": 18,
      "outputs": [
        {
          "output_type": "stream",
          "name": "stdout",
          "text": [
            "Looking in indexes: https://pypi.org/simple, https://us-python.pkg.dev/colab-wheels/public/simple/\n",
            "Requirement already satisfied: torchtext==0.10.0 in /usr/local/lib/python3.8/dist-packages (0.10.0)\n",
            "Requirement already satisfied: torch==1.9.0 in /usr/local/lib/python3.8/dist-packages (from torchtext==0.10.0) (1.9.0)\n",
            "Requirement already satisfied: tqdm in /usr/local/lib/python3.8/dist-packages (from torchtext==0.10.0) (4.64.1)\n",
            "Requirement already satisfied: numpy in /usr/local/lib/python3.8/dist-packages (from torchtext==0.10.0) (1.21.6)\n",
            "Requirement already satisfied: requests in /usr/local/lib/python3.8/dist-packages (from torchtext==0.10.0) (2.25.1)\n",
            "Requirement already satisfied: typing-extensions in /usr/local/lib/python3.8/dist-packages (from torch==1.9.0->torchtext==0.10.0) (4.4.0)\n",
            "Requirement already satisfied: urllib3<1.27,>=1.21.1 in /usr/local/lib/python3.8/dist-packages (from requests->torchtext==0.10.0) (1.24.3)\n",
            "Requirement already satisfied: certifi>=2017.4.17 in /usr/local/lib/python3.8/dist-packages (from requests->torchtext==0.10.0) (2022.12.7)\n",
            "Requirement already satisfied: chardet<5,>=3.0.2 in /usr/local/lib/python3.8/dist-packages (from requests->torchtext==0.10.0) (4.0.0)\n",
            "Requirement already satisfied: idna<3,>=2.5 in /usr/local/lib/python3.8/dist-packages (from requests->torchtext==0.10.0) (2.10)\n"
          ]
        }
      ]
    },
    {
      "cell_type": "code",
      "source": [
        "import torchtext"
      ],
      "metadata": {
        "id": "UEhz4-b65W4B"
      },
      "execution_count": 19,
      "outputs": []
    },
    {
      "cell_type": "code",
      "source": [
        "# prepare dataset for our pytorch \n",
        "\n",
        "# will use torch text for our dataset prepartion in pytorch\n",
        "import torchtext\n",
        "print(torchtext.__version__)\n",
        "from torchtext.legacy.data import Field, TabularDataset, BucketIterator, Iterator"
      ],
      "metadata": {
        "colab": {
          "base_uri": "https://localhost:8080/"
        },
        "id": "Y8uz7MUUEOlm",
        "outputId": "3e2bcf99-51b0-4972-a384-c55c7b78fe2e"
      },
      "execution_count": 20,
      "outputs": [
        {
          "output_type": "stream",
          "name": "stdout",
          "text": [
            "0.10.0\n"
          ]
        }
      ]
    },
    {
      "cell_type": "code",
      "source": [
        "data.head()"
      ],
      "metadata": {
        "colab": {
          "base_uri": "https://localhost:8080/",
          "height": 441
        },
        "id": "IOCqA9ZihYfv",
        "outputId": "4014a65b-1b70-4c43-96cb-fcb733827612"
      },
      "execution_count": 21,
      "outputs": [
        {
          "output_type": "execute_result",
          "data": {
            "text/plain": [
              "   id keyword location                                               text  \\\n",
              "0   1     NaN      NaN   our deeds reason earthquake may allah forgive us   \n",
              "1   4     NaN      NaN              forest fire near la ronge sask canada   \n",
              "2   5     NaN      NaN  all residents asked shelter place notified off...   \n",
              "3   6     NaN      NaN  13000 people receive wildfires evacuation orde...   \n",
              "4   7     NaN      NaN  just got sent photo ruby alaska smoke wildfire...   \n",
              "\n",
              "   target  text length  word count  unique_words  number of punctuations  \n",
              "0       1           69          13            13                       1  \n",
              "1       1           38           7             7                       1  \n",
              "2       1          133          22            20                       3  \n",
              "3       1           65           8             8                       2  \n",
              "4       1           88          16            15                       2  "
            ],
            "text/html": [
              "\n",
              "  <div id=\"df-8558fb20-572c-4164-b8ad-e684337baa2c\">\n",
              "    <div class=\"colab-df-container\">\n",
              "      <div>\n",
              "<style scoped>\n",
              "    .dataframe tbody tr th:only-of-type {\n",
              "        vertical-align: middle;\n",
              "    }\n",
              "\n",
              "    .dataframe tbody tr th {\n",
              "        vertical-align: top;\n",
              "    }\n",
              "\n",
              "    .dataframe thead th {\n",
              "        text-align: right;\n",
              "    }\n",
              "</style>\n",
              "<table border=\"1\" class=\"dataframe\">\n",
              "  <thead>\n",
              "    <tr style=\"text-align: right;\">\n",
              "      <th></th>\n",
              "      <th>id</th>\n",
              "      <th>keyword</th>\n",
              "      <th>location</th>\n",
              "      <th>text</th>\n",
              "      <th>target</th>\n",
              "      <th>text length</th>\n",
              "      <th>word count</th>\n",
              "      <th>unique_words</th>\n",
              "      <th>number of punctuations</th>\n",
              "    </tr>\n",
              "  </thead>\n",
              "  <tbody>\n",
              "    <tr>\n",
              "      <th>0</th>\n",
              "      <td>1</td>\n",
              "      <td>NaN</td>\n",
              "      <td>NaN</td>\n",
              "      <td>our deeds reason earthquake may allah forgive us</td>\n",
              "      <td>1</td>\n",
              "      <td>69</td>\n",
              "      <td>13</td>\n",
              "      <td>13</td>\n",
              "      <td>1</td>\n",
              "    </tr>\n",
              "    <tr>\n",
              "      <th>1</th>\n",
              "      <td>4</td>\n",
              "      <td>NaN</td>\n",
              "      <td>NaN</td>\n",
              "      <td>forest fire near la ronge sask canada</td>\n",
              "      <td>1</td>\n",
              "      <td>38</td>\n",
              "      <td>7</td>\n",
              "      <td>7</td>\n",
              "      <td>1</td>\n",
              "    </tr>\n",
              "    <tr>\n",
              "      <th>2</th>\n",
              "      <td>5</td>\n",
              "      <td>NaN</td>\n",
              "      <td>NaN</td>\n",
              "      <td>all residents asked shelter place notified off...</td>\n",
              "      <td>1</td>\n",
              "      <td>133</td>\n",
              "      <td>22</td>\n",
              "      <td>20</td>\n",
              "      <td>3</td>\n",
              "    </tr>\n",
              "    <tr>\n",
              "      <th>3</th>\n",
              "      <td>6</td>\n",
              "      <td>NaN</td>\n",
              "      <td>NaN</td>\n",
              "      <td>13000 people receive wildfires evacuation orde...</td>\n",
              "      <td>1</td>\n",
              "      <td>65</td>\n",
              "      <td>8</td>\n",
              "      <td>8</td>\n",
              "      <td>2</td>\n",
              "    </tr>\n",
              "    <tr>\n",
              "      <th>4</th>\n",
              "      <td>7</td>\n",
              "      <td>NaN</td>\n",
              "      <td>NaN</td>\n",
              "      <td>just got sent photo ruby alaska smoke wildfire...</td>\n",
              "      <td>1</td>\n",
              "      <td>88</td>\n",
              "      <td>16</td>\n",
              "      <td>15</td>\n",
              "      <td>2</td>\n",
              "    </tr>\n",
              "  </tbody>\n",
              "</table>\n",
              "</div>\n",
              "      <button class=\"colab-df-convert\" onclick=\"convertToInteractive('df-8558fb20-572c-4164-b8ad-e684337baa2c')\"\n",
              "              title=\"Convert this dataframe to an interactive table.\"\n",
              "              style=\"display:none;\">\n",
              "        \n",
              "  <svg xmlns=\"http://www.w3.org/2000/svg\" height=\"24px\"viewBox=\"0 0 24 24\"\n",
              "       width=\"24px\">\n",
              "    <path d=\"M0 0h24v24H0V0z\" fill=\"none\"/>\n",
              "    <path d=\"M18.56 5.44l.94 2.06.94-2.06 2.06-.94-2.06-.94-.94-2.06-.94 2.06-2.06.94zm-11 1L8.5 8.5l.94-2.06 2.06-.94-2.06-.94L8.5 2.5l-.94 2.06-2.06.94zm10 10l.94 2.06.94-2.06 2.06-.94-2.06-.94-.94-2.06-.94 2.06-2.06.94z\"/><path d=\"M17.41 7.96l-1.37-1.37c-.4-.4-.92-.59-1.43-.59-.52 0-1.04.2-1.43.59L10.3 9.45l-7.72 7.72c-.78.78-.78 2.05 0 2.83L4 21.41c.39.39.9.59 1.41.59.51 0 1.02-.2 1.41-.59l7.78-7.78 2.81-2.81c.8-.78.8-2.07 0-2.86zM5.41 20L4 18.59l7.72-7.72 1.47 1.35L5.41 20z\"/>\n",
              "  </svg>\n",
              "      </button>\n",
              "      \n",
              "  <style>\n",
              "    .colab-df-container {\n",
              "      display:flex;\n",
              "      flex-wrap:wrap;\n",
              "      gap: 12px;\n",
              "    }\n",
              "\n",
              "    .colab-df-convert {\n",
              "      background-color: #E8F0FE;\n",
              "      border: none;\n",
              "      border-radius: 50%;\n",
              "      cursor: pointer;\n",
              "      display: none;\n",
              "      fill: #1967D2;\n",
              "      height: 32px;\n",
              "      padding: 0 0 0 0;\n",
              "      width: 32px;\n",
              "    }\n",
              "\n",
              "    .colab-df-convert:hover {\n",
              "      background-color: #E2EBFA;\n",
              "      box-shadow: 0px 1px 2px rgba(60, 64, 67, 0.3), 0px 1px 3px 1px rgba(60, 64, 67, 0.15);\n",
              "      fill: #174EA6;\n",
              "    }\n",
              "\n",
              "    [theme=dark] .colab-df-convert {\n",
              "      background-color: #3B4455;\n",
              "      fill: #D2E3FC;\n",
              "    }\n",
              "\n",
              "    [theme=dark] .colab-df-convert:hover {\n",
              "      background-color: #434B5C;\n",
              "      box-shadow: 0px 1px 3px 1px rgba(0, 0, 0, 0.15);\n",
              "      filter: drop-shadow(0px 1px 2px rgba(0, 0, 0, 0.3));\n",
              "      fill: #FFFFFF;\n",
              "    }\n",
              "  </style>\n",
              "\n",
              "      <script>\n",
              "        const buttonEl =\n",
              "          document.querySelector('#df-8558fb20-572c-4164-b8ad-e684337baa2c button.colab-df-convert');\n",
              "        buttonEl.style.display =\n",
              "          google.colab.kernel.accessAllowed ? 'block' : 'none';\n",
              "\n",
              "        async function convertToInteractive(key) {\n",
              "          const element = document.querySelector('#df-8558fb20-572c-4164-b8ad-e684337baa2c');\n",
              "          const dataTable =\n",
              "            await google.colab.kernel.invokeFunction('convertToInteractive',\n",
              "                                                     [key], {});\n",
              "          if (!dataTable) return;\n",
              "\n",
              "          const docLinkHtml = 'Like what you see? Visit the ' +\n",
              "            '<a target=\"_blank\" href=https://colab.research.google.com/notebooks/data_table.ipynb>data table notebook</a>'\n",
              "            + ' to learn more about interactive tables.';\n",
              "          element.innerHTML = '';\n",
              "          dataTable['output_type'] = 'display_data';\n",
              "          await google.colab.output.renderOutput(dataTable, element);\n",
              "          const docLink = document.createElement('div');\n",
              "          docLink.innerHTML = docLinkHtml;\n",
              "          element.appendChild(docLink);\n",
              "        }\n",
              "      </script>\n",
              "    </div>\n",
              "  </div>\n",
              "  "
            ]
          },
          "metadata": {},
          "execution_count": 21
        }
      ]
    },
    {
      "cell_type": "code",
      "source": [
        "df = data[['text', 'target']]\n",
        "df.head()"
      ],
      "metadata": {
        "colab": {
          "base_uri": "https://localhost:8080/",
          "height": 206
        },
        "id": "5CQLq5c4-37u",
        "outputId": "e63b8d02-d05a-4473-b8c0-80366ad75031"
      },
      "execution_count": 22,
      "outputs": [
        {
          "output_type": "execute_result",
          "data": {
            "text/plain": [
              "                                                text  target\n",
              "0   our deeds reason earthquake may allah forgive us       1\n",
              "1              forest fire near la ronge sask canada       1\n",
              "2  all residents asked shelter place notified off...       1\n",
              "3  13000 people receive wildfires evacuation orde...       1\n",
              "4  just got sent photo ruby alaska smoke wildfire...       1"
            ],
            "text/html": [
              "\n",
              "  <div id=\"df-c46ab828-fb60-4615-955d-f6ae12dac207\">\n",
              "    <div class=\"colab-df-container\">\n",
              "      <div>\n",
              "<style scoped>\n",
              "    .dataframe tbody tr th:only-of-type {\n",
              "        vertical-align: middle;\n",
              "    }\n",
              "\n",
              "    .dataframe tbody tr th {\n",
              "        vertical-align: top;\n",
              "    }\n",
              "\n",
              "    .dataframe thead th {\n",
              "        text-align: right;\n",
              "    }\n",
              "</style>\n",
              "<table border=\"1\" class=\"dataframe\">\n",
              "  <thead>\n",
              "    <tr style=\"text-align: right;\">\n",
              "      <th></th>\n",
              "      <th>text</th>\n",
              "      <th>target</th>\n",
              "    </tr>\n",
              "  </thead>\n",
              "  <tbody>\n",
              "    <tr>\n",
              "      <th>0</th>\n",
              "      <td>our deeds reason earthquake may allah forgive us</td>\n",
              "      <td>1</td>\n",
              "    </tr>\n",
              "    <tr>\n",
              "      <th>1</th>\n",
              "      <td>forest fire near la ronge sask canada</td>\n",
              "      <td>1</td>\n",
              "    </tr>\n",
              "    <tr>\n",
              "      <th>2</th>\n",
              "      <td>all residents asked shelter place notified off...</td>\n",
              "      <td>1</td>\n",
              "    </tr>\n",
              "    <tr>\n",
              "      <th>3</th>\n",
              "      <td>13000 people receive wildfires evacuation orde...</td>\n",
              "      <td>1</td>\n",
              "    </tr>\n",
              "    <tr>\n",
              "      <th>4</th>\n",
              "      <td>just got sent photo ruby alaska smoke wildfire...</td>\n",
              "      <td>1</td>\n",
              "    </tr>\n",
              "  </tbody>\n",
              "</table>\n",
              "</div>\n",
              "      <button class=\"colab-df-convert\" onclick=\"convertToInteractive('df-c46ab828-fb60-4615-955d-f6ae12dac207')\"\n",
              "              title=\"Convert this dataframe to an interactive table.\"\n",
              "              style=\"display:none;\">\n",
              "        \n",
              "  <svg xmlns=\"http://www.w3.org/2000/svg\" height=\"24px\"viewBox=\"0 0 24 24\"\n",
              "       width=\"24px\">\n",
              "    <path d=\"M0 0h24v24H0V0z\" fill=\"none\"/>\n",
              "    <path d=\"M18.56 5.44l.94 2.06.94-2.06 2.06-.94-2.06-.94-.94-2.06-.94 2.06-2.06.94zm-11 1L8.5 8.5l.94-2.06 2.06-.94-2.06-.94L8.5 2.5l-.94 2.06-2.06.94zm10 10l.94 2.06.94-2.06 2.06-.94-2.06-.94-.94-2.06-.94 2.06-2.06.94z\"/><path d=\"M17.41 7.96l-1.37-1.37c-.4-.4-.92-.59-1.43-.59-.52 0-1.04.2-1.43.59L10.3 9.45l-7.72 7.72c-.78.78-.78 2.05 0 2.83L4 21.41c.39.39.9.59 1.41.59.51 0 1.02-.2 1.41-.59l7.78-7.78 2.81-2.81c.8-.78.8-2.07 0-2.86zM5.41 20L4 18.59l7.72-7.72 1.47 1.35L5.41 20z\"/>\n",
              "  </svg>\n",
              "      </button>\n",
              "      \n",
              "  <style>\n",
              "    .colab-df-container {\n",
              "      display:flex;\n",
              "      flex-wrap:wrap;\n",
              "      gap: 12px;\n",
              "    }\n",
              "\n",
              "    .colab-df-convert {\n",
              "      background-color: #E8F0FE;\n",
              "      border: none;\n",
              "      border-radius: 50%;\n",
              "      cursor: pointer;\n",
              "      display: none;\n",
              "      fill: #1967D2;\n",
              "      height: 32px;\n",
              "      padding: 0 0 0 0;\n",
              "      width: 32px;\n",
              "    }\n",
              "\n",
              "    .colab-df-convert:hover {\n",
              "      background-color: #E2EBFA;\n",
              "      box-shadow: 0px 1px 2px rgba(60, 64, 67, 0.3), 0px 1px 3px 1px rgba(60, 64, 67, 0.15);\n",
              "      fill: #174EA6;\n",
              "    }\n",
              "\n",
              "    [theme=dark] .colab-df-convert {\n",
              "      background-color: #3B4455;\n",
              "      fill: #D2E3FC;\n",
              "    }\n",
              "\n",
              "    [theme=dark] .colab-df-convert:hover {\n",
              "      background-color: #434B5C;\n",
              "      box-shadow: 0px 1px 3px 1px rgba(0, 0, 0, 0.15);\n",
              "      filter: drop-shadow(0px 1px 2px rgba(0, 0, 0, 0.3));\n",
              "      fill: #FFFFFF;\n",
              "    }\n",
              "  </style>\n",
              "\n",
              "      <script>\n",
              "        const buttonEl =\n",
              "          document.querySelector('#df-c46ab828-fb60-4615-955d-f6ae12dac207 button.colab-df-convert');\n",
              "        buttonEl.style.display =\n",
              "          google.colab.kernel.accessAllowed ? 'block' : 'none';\n",
              "\n",
              "        async function convertToInteractive(key) {\n",
              "          const element = document.querySelector('#df-c46ab828-fb60-4615-955d-f6ae12dac207');\n",
              "          const dataTable =\n",
              "            await google.colab.kernel.invokeFunction('convertToInteractive',\n",
              "                                                     [key], {});\n",
              "          if (!dataTable) return;\n",
              "\n",
              "          const docLinkHtml = 'Like what you see? Visit the ' +\n",
              "            '<a target=\"_blank\" href=https://colab.research.google.com/notebooks/data_table.ipynb>data table notebook</a>'\n",
              "            + ' to learn more about interactive tables.';\n",
              "          element.innerHTML = '';\n",
              "          dataTable['output_type'] = 'display_data';\n",
              "          await google.colab.output.renderOutput(dataTable, element);\n",
              "          const docLink = document.createElement('div');\n",
              "          docLink.innerHTML = docLinkHtml;\n",
              "          element.appendChild(docLink);\n",
              "        }\n",
              "      </script>\n",
              "    </div>\n",
              "  </div>\n",
              "  "
            ]
          },
          "metadata": {},
          "execution_count": 22
        }
      ]
    },
    {
      "cell_type": "code",
      "source": [
        "import torchtext\n",
        "print(torchtext.__version__)\n",
        "\n",
        "import spacy\n",
        "import pandas as pd\n",
        "from torchtext.legacy.data import Field, BucketIterator, TabularDataset\n",
        "from sklearn.model_selection import train_test_split\n",
        "\n",
        "### Load data from two text files where each row is a sentence ###\n",
        "\n",
        "\n",
        "# create train and test set\n",
        "train, test = train_test_split(df, test_size=0.1)\n",
        "\n",
        "train.to_csv(\"train.csv\", index=False)\n",
        "test.to_csv(\"test.csv\", index=False)\n",
        "\n"
      ],
      "metadata": {
        "colab": {
          "base_uri": "https://localhost:8080/"
        },
        "id": "R9dbPbZ9ccBT",
        "outputId": "34079555-5c5f-4422-f1dd-27321ba7b940"
      },
      "execution_count": 23,
      "outputs": [
        {
          "output_type": "stream",
          "name": "stdout",
          "text": [
            "0.10.0\n"
          ]
        }
      ]
    },
    {
      "cell_type": "code",
      "source": [
        "!python -m spacy download en"
      ],
      "metadata": {
        "colab": {
          "base_uri": "https://localhost:8080/"
        },
        "id": "6KRxwihg8A9k",
        "outputId": "044d5cf2-e124-47b1-f476-2c319d8e7dfd"
      },
      "execution_count": 24,
      "outputs": [
        {
          "output_type": "stream",
          "name": "stdout",
          "text": [
            "2023-02-06 12:39:01.838220: E tensorflow/stream_executor/cuda/cuda_driver.cc:271] failed call to cuInit: CUDA_ERROR_NO_DEVICE: no CUDA-capable device is detected\n",
            "\u001b[38;5;3m⚠ As of spaCy v3.0, shortcuts like 'en' are deprecated. Please use the\n",
            "full pipeline package name 'en_core_web_sm' instead.\u001b[0m\n",
            "Looking in indexes: https://pypi.org/simple, https://us-python.pkg.dev/colab-wheels/public/simple/\n",
            "Collecting en-core-web-sm==3.4.1\n",
            "  Downloading https://github.com/explosion/spacy-models/releases/download/en_core_web_sm-3.4.1/en_core_web_sm-3.4.1-py3-none-any.whl (12.8 MB)\n",
            "\u001b[2K     \u001b[90m━━━━━━━━━━━━━━━━━━━━━━━━━━━━━━━━━━━━━━━━\u001b[0m \u001b[32m12.8/12.8 MB\u001b[0m \u001b[31m62.1 MB/s\u001b[0m eta \u001b[36m0:00:00\u001b[0m\n",
            "\u001b[?25hRequirement already satisfied: spacy<3.5.0,>=3.4.0 in /usr/local/lib/python3.8/dist-packages (from en-core-web-sm==3.4.1) (3.4.4)\n",
            "Requirement already satisfied: murmurhash<1.1.0,>=0.28.0 in /usr/local/lib/python3.8/dist-packages (from spacy<3.5.0,>=3.4.0->en-core-web-sm==3.4.1) (1.0.9)\n",
            "Requirement already satisfied: preshed<3.1.0,>=3.0.2 in /usr/local/lib/python3.8/dist-packages (from spacy<3.5.0,>=3.4.0->en-core-web-sm==3.4.1) (3.0.8)\n",
            "Requirement already satisfied: srsly<3.0.0,>=2.4.3 in /usr/local/lib/python3.8/dist-packages (from spacy<3.5.0,>=3.4.0->en-core-web-sm==3.4.1) (2.4.5)\n",
            "Requirement already satisfied: packaging>=20.0 in /usr/local/lib/python3.8/dist-packages (from spacy<3.5.0,>=3.4.0->en-core-web-sm==3.4.1) (23.0)\n",
            "Requirement already satisfied: setuptools in /usr/local/lib/python3.8/dist-packages (from spacy<3.5.0,>=3.4.0->en-core-web-sm==3.4.1) (57.4.0)\n",
            "Requirement already satisfied: numpy>=1.15.0 in /usr/local/lib/python3.8/dist-packages (from spacy<3.5.0,>=3.4.0->en-core-web-sm==3.4.1) (1.21.6)\n",
            "Requirement already satisfied: requests<3.0.0,>=2.13.0 in /usr/local/lib/python3.8/dist-packages (from spacy<3.5.0,>=3.4.0->en-core-web-sm==3.4.1) (2.25.1)\n",
            "Requirement already satisfied: spacy-loggers<2.0.0,>=1.0.0 in /usr/local/lib/python3.8/dist-packages (from spacy<3.5.0,>=3.4.0->en-core-web-sm==3.4.1) (1.0.4)\n",
            "Requirement already satisfied: catalogue<2.1.0,>=2.0.6 in /usr/local/lib/python3.8/dist-packages (from spacy<3.5.0,>=3.4.0->en-core-web-sm==3.4.1) (2.0.8)\n",
            "Requirement already satisfied: pathy>=0.3.5 in /usr/local/lib/python3.8/dist-packages (from spacy<3.5.0,>=3.4.0->en-core-web-sm==3.4.1) (0.10.1)\n",
            "Requirement already satisfied: smart-open<7.0.0,>=5.2.1 in /usr/local/lib/python3.8/dist-packages (from spacy<3.5.0,>=3.4.0->en-core-web-sm==3.4.1) (6.3.0)\n",
            "Requirement already satisfied: tqdm<5.0.0,>=4.38.0 in /usr/local/lib/python3.8/dist-packages (from spacy<3.5.0,>=3.4.0->en-core-web-sm==3.4.1) (4.64.1)\n",
            "Requirement already satisfied: spacy-legacy<3.1.0,>=3.0.10 in /usr/local/lib/python3.8/dist-packages (from spacy<3.5.0,>=3.4.0->en-core-web-sm==3.4.1) (3.0.12)\n",
            "Requirement already satisfied: pydantic!=1.8,!=1.8.1,<1.11.0,>=1.7.4 in /usr/local/lib/python3.8/dist-packages (from spacy<3.5.0,>=3.4.0->en-core-web-sm==3.4.1) (1.10.4)\n",
            "Requirement already satisfied: langcodes<4.0.0,>=3.2.0 in /usr/local/lib/python3.8/dist-packages (from spacy<3.5.0,>=3.4.0->en-core-web-sm==3.4.1) (3.3.0)\n",
            "Requirement already satisfied: jinja2 in /usr/local/lib/python3.8/dist-packages (from spacy<3.5.0,>=3.4.0->en-core-web-sm==3.4.1) (2.11.3)\n",
            "Requirement already satisfied: wasabi<1.1.0,>=0.9.1 in /usr/local/lib/python3.8/dist-packages (from spacy<3.5.0,>=3.4.0->en-core-web-sm==3.4.1) (0.10.1)\n",
            "Requirement already satisfied: cymem<2.1.0,>=2.0.2 in /usr/local/lib/python3.8/dist-packages (from spacy<3.5.0,>=3.4.0->en-core-web-sm==3.4.1) (2.0.7)\n",
            "Requirement already satisfied: thinc<8.2.0,>=8.1.0 in /usr/local/lib/python3.8/dist-packages (from spacy<3.5.0,>=3.4.0->en-core-web-sm==3.4.1) (8.1.7)\n",
            "Requirement already satisfied: typer<0.8.0,>=0.3.0 in /usr/local/lib/python3.8/dist-packages (from spacy<3.5.0,>=3.4.0->en-core-web-sm==3.4.1) (0.7.0)\n",
            "Requirement already satisfied: typing-extensions>=4.2.0 in /usr/local/lib/python3.8/dist-packages (from pydantic!=1.8,!=1.8.1,<1.11.0,>=1.7.4->spacy<3.5.0,>=3.4.0->en-core-web-sm==3.4.1) (4.4.0)\n",
            "Requirement already satisfied: certifi>=2017.4.17 in /usr/local/lib/python3.8/dist-packages (from requests<3.0.0,>=2.13.0->spacy<3.5.0,>=3.4.0->en-core-web-sm==3.4.1) (2022.12.7)\n",
            "Requirement already satisfied: chardet<5,>=3.0.2 in /usr/local/lib/python3.8/dist-packages (from requests<3.0.0,>=2.13.0->spacy<3.5.0,>=3.4.0->en-core-web-sm==3.4.1) (4.0.0)\n",
            "Requirement already satisfied: urllib3<1.27,>=1.21.1 in /usr/local/lib/python3.8/dist-packages (from requests<3.0.0,>=2.13.0->spacy<3.5.0,>=3.4.0->en-core-web-sm==3.4.1) (1.24.3)\n",
            "Requirement already satisfied: idna<3,>=2.5 in /usr/local/lib/python3.8/dist-packages (from requests<3.0.0,>=2.13.0->spacy<3.5.0,>=3.4.0->en-core-web-sm==3.4.1) (2.10)\n",
            "Requirement already satisfied: blis<0.8.0,>=0.7.8 in /usr/local/lib/python3.8/dist-packages (from thinc<8.2.0,>=8.1.0->spacy<3.5.0,>=3.4.0->en-core-web-sm==3.4.1) (0.7.9)\n",
            "Requirement already satisfied: confection<1.0.0,>=0.0.1 in /usr/local/lib/python3.8/dist-packages (from thinc<8.2.0,>=8.1.0->spacy<3.5.0,>=3.4.0->en-core-web-sm==3.4.1) (0.0.4)\n",
            "Requirement already satisfied: click<9.0.0,>=7.1.1 in /usr/local/lib/python3.8/dist-packages (from typer<0.8.0,>=0.3.0->spacy<3.5.0,>=3.4.0->en-core-web-sm==3.4.1) (7.1.2)\n",
            "Requirement already satisfied: MarkupSafe>=0.23 in /usr/local/lib/python3.8/dist-packages (from jinja2->spacy<3.5.0,>=3.4.0->en-core-web-sm==3.4.1) (2.0.1)\n",
            "\u001b[38;5;2m✔ Download and installation successful\u001b[0m\n",
            "You can now load the package via spacy.load('en_core_web_sm')\n"
          ]
        }
      ]
    },
    {
      "cell_type": "code",
      "source": [
        "df.head()"
      ],
      "metadata": {
        "colab": {
          "base_uri": "https://localhost:8080/",
          "height": 206
        },
        "id": "SK6korZf8wIo",
        "outputId": "1aeaa0c2-8f8b-4307-832d-9d1d888bda3e"
      },
      "execution_count": 25,
      "outputs": [
        {
          "output_type": "execute_result",
          "data": {
            "text/plain": [
              "                                                text  target\n",
              "0   our deeds reason earthquake may allah forgive us       1\n",
              "1              forest fire near la ronge sask canada       1\n",
              "2  all residents asked shelter place notified off...       1\n",
              "3  13000 people receive wildfires evacuation orde...       1\n",
              "4  just got sent photo ruby alaska smoke wildfire...       1"
            ],
            "text/html": [
              "\n",
              "  <div id=\"df-527755b2-23a4-40dc-94bf-b2e7077d3510\">\n",
              "    <div class=\"colab-df-container\">\n",
              "      <div>\n",
              "<style scoped>\n",
              "    .dataframe tbody tr th:only-of-type {\n",
              "        vertical-align: middle;\n",
              "    }\n",
              "\n",
              "    .dataframe tbody tr th {\n",
              "        vertical-align: top;\n",
              "    }\n",
              "\n",
              "    .dataframe thead th {\n",
              "        text-align: right;\n",
              "    }\n",
              "</style>\n",
              "<table border=\"1\" class=\"dataframe\">\n",
              "  <thead>\n",
              "    <tr style=\"text-align: right;\">\n",
              "      <th></th>\n",
              "      <th>text</th>\n",
              "      <th>target</th>\n",
              "    </tr>\n",
              "  </thead>\n",
              "  <tbody>\n",
              "    <tr>\n",
              "      <th>0</th>\n",
              "      <td>our deeds reason earthquake may allah forgive us</td>\n",
              "      <td>1</td>\n",
              "    </tr>\n",
              "    <tr>\n",
              "      <th>1</th>\n",
              "      <td>forest fire near la ronge sask canada</td>\n",
              "      <td>1</td>\n",
              "    </tr>\n",
              "    <tr>\n",
              "      <th>2</th>\n",
              "      <td>all residents asked shelter place notified off...</td>\n",
              "      <td>1</td>\n",
              "    </tr>\n",
              "    <tr>\n",
              "      <th>3</th>\n",
              "      <td>13000 people receive wildfires evacuation orde...</td>\n",
              "      <td>1</td>\n",
              "    </tr>\n",
              "    <tr>\n",
              "      <th>4</th>\n",
              "      <td>just got sent photo ruby alaska smoke wildfire...</td>\n",
              "      <td>1</td>\n",
              "    </tr>\n",
              "  </tbody>\n",
              "</table>\n",
              "</div>\n",
              "      <button class=\"colab-df-convert\" onclick=\"convertToInteractive('df-527755b2-23a4-40dc-94bf-b2e7077d3510')\"\n",
              "              title=\"Convert this dataframe to an interactive table.\"\n",
              "              style=\"display:none;\">\n",
              "        \n",
              "  <svg xmlns=\"http://www.w3.org/2000/svg\" height=\"24px\"viewBox=\"0 0 24 24\"\n",
              "       width=\"24px\">\n",
              "    <path d=\"M0 0h24v24H0V0z\" fill=\"none\"/>\n",
              "    <path d=\"M18.56 5.44l.94 2.06.94-2.06 2.06-.94-2.06-.94-.94-2.06-.94 2.06-2.06.94zm-11 1L8.5 8.5l.94-2.06 2.06-.94-2.06-.94L8.5 2.5l-.94 2.06-2.06.94zm10 10l.94 2.06.94-2.06 2.06-.94-2.06-.94-.94-2.06-.94 2.06-2.06.94z\"/><path d=\"M17.41 7.96l-1.37-1.37c-.4-.4-.92-.59-1.43-.59-.52 0-1.04.2-1.43.59L10.3 9.45l-7.72 7.72c-.78.78-.78 2.05 0 2.83L4 21.41c.39.39.9.59 1.41.59.51 0 1.02-.2 1.41-.59l7.78-7.78 2.81-2.81c.8-.78.8-2.07 0-2.86zM5.41 20L4 18.59l7.72-7.72 1.47 1.35L5.41 20z\"/>\n",
              "  </svg>\n",
              "      </button>\n",
              "      \n",
              "  <style>\n",
              "    .colab-df-container {\n",
              "      display:flex;\n",
              "      flex-wrap:wrap;\n",
              "      gap: 12px;\n",
              "    }\n",
              "\n",
              "    .colab-df-convert {\n",
              "      background-color: #E8F0FE;\n",
              "      border: none;\n",
              "      border-radius: 50%;\n",
              "      cursor: pointer;\n",
              "      display: none;\n",
              "      fill: #1967D2;\n",
              "      height: 32px;\n",
              "      padding: 0 0 0 0;\n",
              "      width: 32px;\n",
              "    }\n",
              "\n",
              "    .colab-df-convert:hover {\n",
              "      background-color: #E2EBFA;\n",
              "      box-shadow: 0px 1px 2px rgba(60, 64, 67, 0.3), 0px 1px 3px 1px rgba(60, 64, 67, 0.15);\n",
              "      fill: #174EA6;\n",
              "    }\n",
              "\n",
              "    [theme=dark] .colab-df-convert {\n",
              "      background-color: #3B4455;\n",
              "      fill: #D2E3FC;\n",
              "    }\n",
              "\n",
              "    [theme=dark] .colab-df-convert:hover {\n",
              "      background-color: #434B5C;\n",
              "      box-shadow: 0px 1px 3px 1px rgba(0, 0, 0, 0.15);\n",
              "      filter: drop-shadow(0px 1px 2px rgba(0, 0, 0, 0.3));\n",
              "      fill: #FFFFFF;\n",
              "    }\n",
              "  </style>\n",
              "\n",
              "      <script>\n",
              "        const buttonEl =\n",
              "          document.querySelector('#df-527755b2-23a4-40dc-94bf-b2e7077d3510 button.colab-df-convert');\n",
              "        buttonEl.style.display =\n",
              "          google.colab.kernel.accessAllowed ? 'block' : 'none';\n",
              "\n",
              "        async function convertToInteractive(key) {\n",
              "          const element = document.querySelector('#df-527755b2-23a4-40dc-94bf-b2e7077d3510');\n",
              "          const dataTable =\n",
              "            await google.colab.kernel.invokeFunction('convertToInteractive',\n",
              "                                                     [key], {});\n",
              "          if (!dataTable) return;\n",
              "\n",
              "          const docLinkHtml = 'Like what you see? Visit the ' +\n",
              "            '<a target=\"_blank\" href=https://colab.research.google.com/notebooks/data_table.ipynb>data table notebook</a>'\n",
              "            + ' to learn more about interactive tables.';\n",
              "          element.innerHTML = '';\n",
              "          dataTable['output_type'] = 'display_data';\n",
              "          await google.colab.output.renderOutput(dataTable, element);\n",
              "          const docLink = document.createElement('div');\n",
              "          docLink.innerHTML = docLinkHtml;\n",
              "          element.appendChild(docLink);\n",
              "        }\n",
              "      </script>\n",
              "    </div>\n",
              "  </div>\n",
              "  "
            ]
          },
          "metadata": {},
          "execution_count": 25
        }
      ]
    },
    {
      "cell_type": "code",
      "source": [
        "df['target'].value_counts()"
      ],
      "metadata": {
        "colab": {
          "base_uri": "https://localhost:8080/"
        },
        "id": "kkg7YnZUByZl",
        "outputId": "aa3a2b23-fe10-46cc-a2a2-656b2a7ec8ff"
      },
      "execution_count": 26,
      "outputs": [
        {
          "output_type": "execute_result",
          "data": {
            "text/plain": [
              "0    4342\n",
              "1    3271\n",
              "Name: target, dtype: int64"
            ]
          },
          "metadata": {},
          "execution_count": 26
        }
      ]
    },
    {
      "cell_type": "code",
      "source": [
        "device = torch.device(\"cuda\" if torch.cuda.is_available() else \"cpu\")\n",
        "\n"
      ],
      "metadata": {
        "id": "ZH-EeAvr7_u6"
      },
      "execution_count": 27,
      "outputs": []
    },
    {
      "cell_type": "code",
      "source": [
        "### Now we're back to where we were in previous Tutorials ###\n",
        "\n",
        "\n",
        "# Fields\n",
        "\n",
        "label_field = Field(sequential=False, use_vocab=False, batch_first=True, dtype=torch.float)\n",
        "text_field = Field(tokenize='spacy', lower=True, include_lengths=True, batch_first=True)\n",
        "fields = [('text', text_field),  ('label', label_field)]\n",
        "\n",
        "# TabularDataset\n",
        "\n",
        "train,test = TabularDataset.splits(path='./', train='train.csv', test='test.csv',\n",
        "                                           format='CSV', fields=fields, skip_header=True)\n"
      ],
      "metadata": {
        "id": "nAfuIB7OhPdF",
        "colab": {
          "base_uri": "https://localhost:8080/"
        },
        "outputId": "7dc50974-0b77-4390-fbd1-4dae92e375ec"
      },
      "execution_count": 28,
      "outputs": [
        {
          "output_type": "stream",
          "name": "stderr",
          "text": [
            "/usr/local/lib/python3.8/dist-packages/torchtext/data/utils.py:123: UserWarning: Spacy model \"en\" could not be loaded, trying \"en_core_web_sm\" instead\n",
            "  warnings.warn(f'Spacy model \"{language}\" could not be loaded, trying \"{OLD_MODEL_SHORTCUTS[language]}\" instead')\n"
          ]
        }
      ]
    },
    {
      "cell_type": "code",
      "source": [
        "#print preprocessed text\n",
        "print(vars(train.examples[0]))"
      ],
      "metadata": {
        "colab": {
          "base_uri": "https://localhost:8080/"
        },
        "id": "DQM1PjwP972B",
        "outputId": "65399abd-a0d3-4454-eaae-0a9976d1d8ad"
      },
      "execution_count": 29,
      "outputs": [
        {
          "output_type": "stream",
          "name": "stdout",
          "text": [
            "{'text': ['driver', 'fatalities', 'irish', 'roads', 'pedestrians', 'cyclists', 'risk'], 'label': '1'}\n"
          ]
        }
      ]
    },
    {
      "cell_type": "code",
      "source": [
        "device = torch.device(\"cuda\" if torch.cuda.is_available() else \"cpu\")\n"
      ],
      "metadata": {
        "id": "vO41Ze-lks4j"
      },
      "execution_count": 30,
      "outputs": []
    },
    {
      "cell_type": "code",
      "source": [
        "text_field.build_vocab(train,min_freq=3,vectors = \"glove.6B.100d\")  \n",
        "label_field.build_vocab(train)\n"
      ],
      "metadata": {
        "colab": {
          "base_uri": "https://localhost:8080/"
        },
        "id": "rapium2G_odV",
        "outputId": "033e8e3d-1fad-4b13-dfd6-5f776da9f567"
      },
      "execution_count": 31,
      "outputs": [
        {
          "output_type": "stream",
          "name": "stderr",
          "text": [
            ".vector_cache/glove.6B.zip: 862MB [02:39, 5.40MB/s]                           \n",
            "100%|█████████▉| 399999/400000 [00:16<00:00, 24566.12it/s]\n"
          ]
        }
      ]
    },
    {
      "cell_type": "code",
      "source": [
        "\n",
        "#No. of unique tokens in text\n",
        "print(\"Size of TEXT vocabulary:\",len(text_field.vocab))\n",
        "\n",
        "#No. of unique tokens in label\n",
        "print(\"Size of LABEL vocabulary:\",len(label_field.vocab))\n",
        "\n",
        "#Commonly used words\n",
        "print(text_field.vocab.freqs.most_common(10))  \n",
        "\n",
        "#Word dictionary\n",
        "print(text_field.vocab.stoi)  "
      ],
      "metadata": {
        "colab": {
          "base_uri": "https://localhost:8080/"
        },
        "id": "R7oVOpny_oan",
        "outputId": "2d7753ef-822a-41a8-ae38-bef81de528ca"
      },
      "execution_count": 32,
      "outputs": [
        {
          "output_type": "stream",
          "name": "stdout",
          "text": [
            "Size of TEXT vocabulary: 4116\n",
            "Size of LABEL vocabulary: 3\n",
            "[('i', 1459), ('the', 591), ('nt', 451), ('like', 312), ('m', 307), ('a', 278), ('amp', 263), ('fire', 224), ('s', 222), ('do', 212)]\n",
            "defaultdict(<bound method Vocab._default_unk_index of <torchtext.legacy.vocab.Vocab object at 0x7fa8ec578400>>, {'<unk>': 0, '<pad>': 1, 'i': 2, 'the': 3, 'nt': 4, 'like': 5, 'm': 6, 'a': 7, 'amp': 8, 'fire': 9, 's': 10, 'do': 11, 'get': 12, 'new': 13, 'you': 14, 'via': 15, 'in': 16, 'one': 17, 'people': 18, 'news': 19, 'video': 20, 'us': 21, '2': 22, 'emergency': 23, 'disaster': 24, 'would': 25, 'police': 26, 'is': 27, 'this': 28, 'my': 29, 'back': 30, 'california': 31, 'to': 32, 'still': 33, 'body': 34, 'burning': 35, 'crash': 36, 'ca': 37, 'storm': 38, 'got': 39, 'time': 40, 'know': 41, 'day': 42, 'man': 43, 'suicide': 44, '3': 45, 'and': 46, 'buildings': 47, 'nuclear': 48, 'world': 49, 'fires': 50, 'that': 51, 'rt': 52, 'what': 53, 'go': 54, 'bomb': 55, 'first': 56, 're': 57, 'going': 58, 'if': 59, 'see': 60, 'youtube': 61, 'dead': 62, 'killed': 63, 'attack': 64, 'he': 65, 'two': 66, 'we': 67, 'love': 68, 'train': 69, 'there': 70, 'of': 71, 'war': 72, 'full': 73, 'its': 74, 'may': 75, 'car': 76, 'life': 77, 'hiroshima': 78, 'say': 79, 'they': 80, 'now': 81, 'today': 82, 'it': 83, 'could': 84, 'good': 85, 'how': 86, 'think': 87, 'want': 88, 'u': 89, 'years': 90, 'accident': 91, 'many': 92, 'watch': 93, 'families': 94, 'last': 95, 'make': 96, 'more': 97, 've': 98, 'collapse': 99, 'pm': 100, 'home': 101, 'all': 102, 'wildfire': 103, 'way': 104, '5': 105, 'best': 106, 'mass': 107, 'really': 108, 'so': 109, '4': 110, 'another': 111, 'even': 112, 'look': 113, 'please': 114, 'take': 115, 'work': 116, 'mh370': 117, 'need': 118, 'not': 119, 'year': 120, 'lol': 121, 'no': 122, 'forest': 123, 'right': 124, 'army': 125, 'school': 126, 'black': 127, 'but': 128, 'death': 129, 'help': 130, 'are': 131, 'bombing': 132, 'hot': 133, 'on': 134, '1': 135, 'd': 136, 'for': 137, 'much': 138, '2015': 139, 'fatal': 140, 'homes': 141, 'live': 142, 'never': 143, 'northern': 144, 'water': 145, 'feel': 146, 'great': 147, 'atomic': 148, 'every': 149, 'let': 150, 'obama': 151, '\\x89û': 152, 'city': 153, 'come': 154, 'just': 155, 'latest': 156, 'legionnaires': 157, 'flood': 158, 'god': 159, 'read': 160, 'when': 161, 'bomber': 162, 'content': 163, 'floods': 164, 'shit': 165, 'with': 166, 'wreck': 167, 'old': 168, 'said': 169, 'fear': 170, 'flames': 171, 'hope': 172, 'japan': 173, 'after': 174, 'getting': 175, 'military': 176, 'coming': 177, 'damage': 178, 'ever': 179, 'near': 180, 'since': 181, 'well': 182, 'without': 183, 'evacuation': 184, 'everyone': 185, 'found': 186, 'injured': 187, 'weather': 188, 'as': 189, 'at': 190, 'flooding': 191, 'little': 192, 'oil': 193, 'reddit': 194, 'set': 195, 'why': 196, 'wounded': 197, 'earthquake': 198, 'face': 199, 'hit': 200, 'next': 201, 'plan': 202, 'smoke': 203, 'state': 204, 'stop': 205, 'thunderstorm': 206, 'top': 207, 'did': 208, 'gon': 209, 'looks': 210, 'movie': 211, 'natural': 212, 'night': 213, 'rain': 214, 'severe': 215, 'times': 216, 'w': 217, 'weapon': 218, 'ass': 219, 'bad': 220, 'debris': 221, 'family': 222, 'food': 223, 'fucking': 224, 'high': 225, 'lightning': 226, 'sinking': 227, 'thunder': 228, 'truck': 229, 'will': 230, '70': 231, 'by': 232, 'collided': 233, 'confirmed': 234, 'cross': 235, 'head': 236, 'liked': 237, 'made': 238, 'malaysia': 239, 'up': 240, 'bags': 241, 'cause': 242, 'fall': 243, 'from': 244, 'heat': 245, 'murder': 246, 'says': 247, 'services': 248, 'wild': 249, 'attacked': 250, 'bloody': 251, 'derailment': 252, 'free': 253, 'have': 254, 'house': 255, 'na': 256, 'sinkhole': 257, 'some': 258, 'summer': 259, 'warning': 260, 'also': 261, 'does': 262, 'explosion': 263, 'failure': 264, 'hurricane': 265, 'injuries': 266, 'photo': 267, 'screaming': 268, 'someone': 269, 'burned': 270, 'change': 271, 'destroy': 272, 'hail': 273, 'missing': 274, 'twister': 275, 'weapons': 276, 'were': 277, 'whole': 278, 'air': 279, 'always': 280, 'an': 281, 'away': 282, 'boy': 283, 'bridge': 284, 'catastrophe': 285, 'check': 286, 'harm': 287, 'ill': 288, 'island': 289, 'lives': 290, 'panic': 291, 'post': 292, 'put': 293, 'refugees': 294, 'run': 295, 'saudi': 296, 'she': 297, 'spill': 298, 'survivors': 299, 'update': 300, 'wind': 301, 'ambulance': 302, 'around': 303, 'august': 304, 'bag': 305, 'blood': 306, 'bombed': 307, 'breaking': 308, 'bus': 309, 'collapsed': 310, 'deaths': 311, 'destroyed': 312, 'drought': 313, 'engulfed': 314, 'evacuate': 315, 'explode': 316, 'fatalities': 317, 'fuck': 318, 'loud': 319, 'me': 320, 'outbreak': 321, 'quarantine': 322, 'real': 323, 'rescue': 324, 'rescued': 325, 'road': 326, 'save': 327, 'survived': 328, 'tragedy': 329, 'trapped': 330, 'violent': 331, 'whirlwind': 332, 'wrecked': 333, '\\x89ûò': 334, '15': 335, 'area': 336, 'call': 337, 'curfew': 338, 'danger': 339, 'devastation': 340, 'displaced': 341, 'end': 342, 'game': 343, 'girl': 344, 'hostages': 345, 'inundated': 346, 'keep': 347, 'least': 348, 'oh': 349, 'ok': 350, 'red': 351, 'released': 352, 'screamed': 353, 'structural': 354, 'survive': 355, 'white': 356, 'woman': 357, 'wreckage': 358, '9': 359, 'better': 360, 'big': 361, 'boat': 362, 'charged': 363, 'county': 364, 'deluge': 365, 'derail': 366, 'drowning': 367, 'exploded': 368, 'famine': 369, 'fedex': 370, 'hazard': 371, 'landslide': 372, 'mudslide': 373, 'quarantined': 374, 'rescuers': 375, 'rioting': 376, 'ruin': 377, 'screams': 378, 'service': 379, 'story': 380, 'sunk': 381, 'suspect': 382, 'terrorism': 383, 'terrorist': 384, 'things': 385, 'tonight': 386, 'trauma': 387, 'week': 388, 'armageddon': 389, 'bioterror': 390, 'blown': 391, 'cliff': 392, 'derailed': 393, 'destruction': 394, 'flattened': 395, 'group': 396, 'hazardous': 397, 'heart': 398, 'injury': 399, 'lot': 400, 'mosque': 401, 'part': 402, 'past': 403, 'phone': 404, 'power': 405, 'saw': 406, 'show': 407, 'wanna': 408, '40': 409, 'anniversary': 410, 'battle': 411, 'casualties': 412, 'crashed': 413, 'crush': 414, 'drown': 415, 'dust': 416, 'ebay': 417, 'evacuated': 418, 'horrible': 419, 'lava': 420, 'longer': 421, 'migrants': 422, 'officials': 423, 'possible': 424, 'report': 425, 'sandstorm': 426, 'traumatised': 427, 'trouble': 428, 'went': 429, 'wounds': 430, 'your': 431, 'apocalypse': 432, 'bleeding': 433, 'blew': 434, 'calgary': 435, 'came': 436, 'catastrophic': 437, 'collide': 438, 'detonate': 439, 'hundreds': 440, 'india': 441, 'left': 442, 'light': 443, 'long': 444, 'must': 445, 'soon': 446, 'st': 447, 'thing': 448, 'was': 449, 'who': 450, 'airplane': 451, 'am': 452, 'annihilated': 453, 'chemical': 454, 'collision': 455, 'demolish': 456, 'electrocuted': 457, 'government': 458, 'heard': 459, 'hijacking': 460, 'hostage': 461, 'investigators': 462, 'iran': 463, 'kills': 464, 'land': 465, 'meltdown': 466, 'obliterated': 467, 'plane': 468, 'razed': 469, 'reunion': 470, 'riot': 471, 'security': 472, 'something': 473, 'sound': 474, 'sure': 475, 'tomorrow': 476, 'typhoon': 477, 'wave': 478, 'windstorm': 479, 'wo': 480, '6': 481, '8': 482, 'affected': 483, 'already': 484, 'arson': 485, 'baby': 486, 'bang': 487, 'believe': 488, 'building': 489, 'bush': 490, 'demolished': 491, 'desolation': 492, 'fight': 493, 'goes': 494, 'hijacker': 495, 'isis': 496, 'kids': 497, 'massacre': 498, 'national': 499, 'nothing': 500, 'obliteration': 501, 'officer': 502, 'pandemonium': 503, 'song': 504, 'stock': 505, 'thought': 506, 'traffic': 507, 'twitter': 508, 'use': 509, 'women': 510, 'yet': 511, 'zone': 512, 'ablaze': 513, 'actually': 514, 'care': 515, 'caused': 516, 'crushed': 517, 'demolition': 518, 'detonation': 519, 'fan': 520, 'half': 521, 'has': 522, 'kill': 523, 'km': 524, 'lets': 525, 'market': 526, 'murderer': 527, 'obliterate': 528, 'panicking': 529, 'river': 530, 'send': 531, 'tornado': 532, 'tsunami': 533, 'used': 534, 'wake': 535, 'anything': 536, 'beautiful': 537, 'blazing': 538, 'cool': 539, 'cyclone': 540, 'days': 541, 'done': 542, 'drowned': 543, 'far': 544, 'fatality': 545, 'fun': 546, 'hijack': 547, 'israeli': 548, 'issues': 549, 'leave': 550, 'mp': 551, 'nowplaying': 552, 'policy': 553, 'prebreak': 554, 'rainstorm': 555, 'shoulder': 556, 'thank': 557, 'thanks': 558, 'ur': 559, 'volcano': 560, 'yes': 561, '12': 562, 'ago': 563, 'avalanche': 564, 'bagging': 565, 'casualty': 566, 'due': 567, 'health': 568, 'hell': 569, 'inside': 570, 'lab': 571, 'line': 572, 'making': 573, 'media': 574, 'memories': 575, 'minute': 576, 'north': 577, 'pkk': 578, 'play': 579, 'reactor': 580, 'remember': 581, 'sirens': 582, 'snowstorm': 583, 'three': 584, 'trying': 585, 'under': 586, 'upheaval': 587, '10': 588, '20': 589, '7': 590, 'airport': 591, 'brown': 592, 'children': 593, 'deluged': 594, 'detonated': 595, 'eyewitness': 596, 'gets': 597, 'helicopter': 598, 'horror': 599, 'islam': 600, 'peace': 601, 'person': 602, 'responders': 603, 're\\x89û': 604, 'shot': 605, 'site': 606, 'start': 607, 'wait': 608, 'words': 609, '50': 610, 'amid': 611, 'be': 612, 'blast': 613, 'book': 614, 'business': 615, 'can': 616, 'crews': 617, 'data': 618, 'deal': 619, 'declares': 620, 'died': 621, 'guys': 622, 'hours': 623, 'music': 624, 'order': 625, 'outside': 626, 'place': 627, 'plans': 628, 'shooting': 629, 'stay': 630, 'stretcher': 631, 'sue': 632, 'transport': 633, 'turkey': 634, 'yeah': 635, '16yr': 636, '60': 637, 'american': 638, 'anyone': 639, 'bar': 640, 'bc': 641, 'being': 642, 'bigger': 643, 'blight': 644, 'crisis': 645, 'damn': 646, 'die': 647, 'electrocute': 648, 'fast': 649, 'feeling': 650, 'find': 651, 'hellfire': 652, 'job': 653, 'men': 654, 'nearby': 655, 'our': 656, 'over': 657, 'pic': 658, 'probably': 659, 'seismic': 660, 'soudelor': 661, 'street': 662, 'support': 663, 'tell': 664, 'watching': 665, 'waves': 666, '30': 667, 'bioterrorism': 668, 'called': 669, 'cars': 670, 'case': 671, 'desolate': 672, 'eyes': 673, 'hat': 674, 'la': 675, 'low': 676, 'makes': 677, 'n': 678, 'others': 679, 'photos': 680, 'pretty': 681, 'projected': 682, 'reuters': 683, 'rise': 684, 'rubble': 685, 'saipan': 686, 'saved': 687, 'side': 688, 'spot': 689, 'team': 690, 'texas': 691, 'typhoondevastated': 692, '\\x89ûó': 693, 'abc': 694, 'aircraft': 695, 'almost': 696, 'anthrax': 697, 'b': 698, 'bestnaijamade': 699, 'blaze': 700, 'bodies': 701, 'caught': 702, 'control': 703, 'daily': 704, 'effect': 705, 'feared': 706, 'happy': 707, 'literally': 708, 'll': 709, 'major': 710, 'maybe': 711, 'might': 712, 'money': 713, 'morning': 714, 'mph': 715, 'needs': 716, 'offensive': 717, 'pick': 718, 'searching': 719, 'signs': 720, 'siren': 721, 'south': 722, 'space': 723, 'swallowed': 724, 'town': 725, 'trains': 726, 'tv': 727, 'west': 728, '11': 729, 'aftershock': 730, 'angry': 731, 'annihilation': 732, 'aug': 733, 'ball': 734, 'become': 735, 'blizzard': 736, 'blue': 737, 'center': 738, 'centre': 739, 'conclusively': 740, 'costlier': 741, 'country': 742, 'course': 743, 'emmerdale': 744, 'everything': 745, 'flag': 746, 'flash': 747, 'giant': 748, 'gun': 749, 'guy': 750, 'hailstorm': 751, 'heavy': 752, 'history': 753, 'hollywood': 754, 'huge': 755, 'lost': 756, 'manslaughter': 757, 'mayhem': 758, 'mishaps': 759, 'mom': 760, 'move': 761, 'okay': 762, 'omg': 763, 'poor': 764, 'reason': 765, 'refugio': 766, 'second': 767, 'seen': 768, 'ship': 769, 'talk': 770, 'totally': 771, 'usa': 772, 'worst': 773, 'wrong': 774, 'youth': 775, '13': 776, 'across': 777, 'alone': 778, 'banned': 779, 'cake': 780, 'chance': 781, 'child': 782, 'christian': 783, 'climate': 784, 'closed': 785, 'computers': 786, 'crazy': 787, 'entire': 788, 'finally': 789, 'follow': 790, 'fukushima': 791, 'gbbo': 792, 'germs': 793, 'green': 794, 'gt': 795, 'hard': 796, 'hate': 797, 'hear': 798, 'hey': 799, 'issued': 800, 'level': 801, 'listen': 802, 'looking': 803, 'meek': 804, 'miners': 805, 'official': 806, 'online': 807, 'or': 808, 'out': 809, 'pain': 810, 'rd': 811, 'russian': 812, 'self': 813, 'taken': 814, 'temple': 815, 'trench': 816, 'trust': 817, 'vehicle': 818, 'village': 819, 'win': 820, 'womens': 821, 'wow': 822, '05': 823, '100': 824, '11yearold': 825, '25': 826, 'about': 827, 'action': 828, 'added': 829, 'ai': 830, 'bbc': 831, 'class': 832, 'cnn': 833, 'coaches': 834, 'couple': 835, 'disea': 836, 'download': 837, 'drive': 838, 'else': 839, 'g': 840, 'happened': 841, 'houses': 842, 'ignition': 843, 'jobs': 844, 'knock': 845, 'learn': 846, 'lord': 847, 'nagasaki': 848, 'name': 849, 'nearly': 850, 'pakistan': 851, 'picking': 852, 'playing': 853, 'public': 854, 'quiz': 855, 'ready': 856, 'reports': 857, 'sorry': 858, 'stand': 859, 'takes': 860, 'taking': 861, 'though': 862, 'truth': 863, 'try': 864, 'view': 865, 'vs': 866, 'beach': 867, 'bed': 868, 'behind': 869, 'bombs': 870, 'bring': 871, 'british': 872, 'china': 873, 'comes': 874, 'declaration': 875, 'downtown': 876, 'drake': 877, 'east': 878, 'ebola': 879, 'eye': 880, 'favorite': 881, 'film': 882, 'flight': 883, 'former': 884, 'friend': 885, 'funtenna': 886, 'global': 887, 'govt': 888, 'haha': 889, 'info': 890, 'instead': 891, 'insurance': 892, 'israel': 893, 'ladies': 894, 'landing': 895, 'leather': 896, 'led': 897, 'libya': 898, 'link': 899, 'madhya': 900, 'marks': 901, 'miss': 902, 'mop': 903, 'muslims': 904, 'nigerian': 905, 'outrage': 906, 'park': 907, 'patience': 908, 'pay': 909, 'potus': 910, 'pradesh': 911, 'property': 912, 'reddits': 913, 'rly': 914, 'rules': 915, 'russia': 916, 'star': 917, 'thousands': 918, 'till': 919, 'toddler': 920, 'turned': 921, 'united': 922, 'virgin': 923, '12000': 924, 'america': 925, 'ancient': 926, 'appears': 927, 'arsonist': 928, 'bayelsa': 929, 'biggest': 930, 'chile': 931, 'cut': 932, 'date': 933, 'devastated': 934, 'dog': 935, 'don\\x89ûªt': 936, 'driving': 937, 'early': 938, 'escape': 939, 'expected': 940, 'experts': 941, 'fashion': 942, 'four': 943, 'friends': 944, 'front': 945, 'galactic': 946, 'gave': 947, 'give': 948, 'here': 949, 'lamp': 950, 'likely': 951, 'london': 952, 'mad': 953, 'middle': 954, 'mode': 955, 'mount': 956, 'myanmar': 957, 'niggas': 958, 'nws': 959, 'only': 960, 'pakistani': 961, 'pamela': 962, 'playlist': 963, 'ppl': 964, 'r': 965, 'radio': 966, 'reported': 967, 'rock': 968, 'room': 969, 'running': 970, 'sad': 971, 'seeing': 972, 'shots': 973, 'shows': 974, 'sign': 975, 'sounds': 976, 'subreddits': 977, 'super': 978, 'thursday': 979, 'true': 980, 'turn': 981, 'wants': 982, 'york': 983, '16': 984, '70th': 985, 'ahead': 986, 'alabama': 987, 'alarm': 988, 'album': 989, 'any': 990, 'apollo': 991, 'australia': 992, 'camp': 993, 'cdt': 994, 'claims': 995, 'colorado': 996, 'crematoria': 997, 'dies': 998, 'driver': 999, 'earth': 1000, 'fans': 1001, 'firefighters': 1002, 'following': 1003, 'france': 1004, 'geller': 1005, 'gems': 1006, 'gop': 1007, 'guess': 1008, 'holding': 1009, 'human': 1010, 'internet': 1011, 'lady': 1012, 'lake': 1013, 'large': 1014, 'mean': 1015, 'members': 1016, 'militants': 1017, 'parole': 1018, 'party': 1019, 'passengers': 1020, 'point': 1021, 'pray': 1022, 'problem': 1023, 'provoke': 1024, 'record': 1025, 'recount': 1026, 'research': 1027, 'sex': 1028, 'share': 1029, 'shift': 1030, 'sky': 1031, 'soul': 1032, 'terror': 1033, 'theater': 1034, 'thinking': 1035, 'told': 1036, 'tried': 1037, 'victims': 1038, 'washington': 1039, 'waving': 1040, 'wonder': 1041, '2013': 1042, 'aba': 1043, 'act': 1044, 'arrested': 1045, 'brooklyn': 1046, 'businesses': 1047, 'cameroon': 1048, 'causes': 1049, 'chinas': 1050, 'coast': 1051, 'comment': 1052, 'cree': 1053, 'dad': 1054, 'dance': 1055, 'de': 1056, 'deep': 1057, 'department': 1058, 'different': 1059, 'direction': 1060, 'enugu': 1061, 'evening': 1062, 'funny': 1063, 'games': 1064, 'gold': 1065, 'governor': 1066, 'gtgt': 1067, 'had': 1068, 'hour': 1069, 'information': 1070, 'interesting': 1071, 'internally': 1072, 'international': 1073, 'investigating': 1074, 'japanese': 1075, 'jonathan': 1076, 'king': 1077, 'living': 1078, 'means': 1079, 'metal': 1080, 'mod': 1081, 'moment': 1082, 'mountain': 1083, 'nigga': 1084, 'number': 1085, 'occurred': 1086, 'offroad': 1087, 'risk': 1088, 'saying': 1089, 'scared': 1090, 'scene': 1091, 'sea': 1092, 'series': 1093, 'should': 1094, 'sick': 1095, 'sometimes': 1096, 'strike': 1097, 'taiwan': 1098, 'teen': 1099, 'tweet': 1100, 'twelve': 1101, 'uk': 1102, 'upon': 1103, 'walking': 1104, 'wanted': 1105, 'weekend': 1106, 'where': 1107, 'winds': 1108, 'worse': 1109, 'wrought': 1110, '0': 1111, '19': 1112, '24': 1113, 'absolutely': 1114, 'ave': 1115, 'ban': 1116, 'break': 1117, 'broke': 1118, 'career': 1119, 'causing': 1120, 'changes': 1121, 'company': 1122, 'dc': 1123, 'delivers': 1124, 'denver': 1125, 'double': 1126, 'e': 1127, 'effects': 1128, 'episode': 1129, 'etc': 1130, 'event': 1131, 'feat': 1132, 'financial': 1133, 'force': 1134, 'gas': 1135, 'general': 1136, 'gone': 1137, 'ground': 1138, 'hair': 1139, 'hand': 1140, 'handbag': 1141, 'her': 1142, 'hiring': 1143, 'horse': 1144, 'indian': 1145, 'industry': 1146, 'involving': 1147, 'killing': 1148, 'lies': 1149, 'lmao': 1150, 'louis': 1151, 'map': 1152, 'marians': 1153, 'metro': 1154, 'months': 1155, 'neighbours': 1156, 'nice': 1157, 'nyc': 1158, 'open': 1159, 'pass': 1160, 'phoenix': 1161, 'planned': 1162, 'plunging': 1163, 'prepare': 1164, 'press': 1165, 'response': 1166, 'safety': 1167, 'season': 1168, 'secret': 1169, 'sense': 1170, 'sent': 1171, 'serious': 1172, 'short': 1173, 'silver': 1174, 'small': 1175, 'spring': 1176, 'started': 1177, 'strong': 1178, 'struggles': 1179, 'them': 1180, 'tho': 1181, 'total': 1182, 'training': 1183, 'travel': 1184, 'turkish': 1185, 'udhampur': 1186, 'unconfirmed': 1187, 'union': 1188, 'utc20150805': 1189, 'walk': 1190, 'wednesday': 1191, 'western': 1192, 'working': 1193, 'x': 1194, 'y': 1195, 'young': 1196, '\\x89ûïwhen': 1197, '17': 1198, '2014': 1199, '2nd': 1200, 'agree': 1201, 'anymore': 1202, 'apc': 1203, 'art': 1204, 'ashes': 1205, 'beyond': 1206, 'brother': 1207, 'buses': 1208, 'canada': 1209, 'central': 1210, 'court': 1211, 'desires': 1212, 'destroys': 1213, 'drink': 1214, 'dude': 1215, 'emotional': 1216, 'enough': 1217, 'exchanging': 1218, 'expect': 1219, 'express': 1220, 'fact': 1221, 'falling': 1222, 'false': 1223, 'fat': 1224, 'feels': 1225, 'felt': 1226, 'freak': 1227, 'fully': 1228, 'girls': 1229, 'giving': 1230, 'glad': 1231, 'gunman': 1232, 'happen': 1233, 'happening': 1234, 'happens': 1235, 'hero': 1236, 'idea': 1237, 'islamic': 1238, 'join': 1239, 'killer': 1240, 'kinda': 1241, 'leaving': 1242, 'loved': 1243, 'match': 1244, 'med': 1245, 'michael': 1246, 'mine': 1247, 'month': 1248, 'moving': 1249, 'navy': 1250, 'ones': 1251, 'parents': 1252, 'petition': 1253, 'philippines': 1254, 'piece': 1255, 'rather': 1256, 'repatriated': 1257, 'roosevelt': 1258, 'ross': 1259, 'salt': 1260, 'shape': 1261, 'sitting': 1262, 'smaug': 1263, 'standard': 1264, 'states': 1265, 'stories': 1266, 'students': 1267, 'stuff': 1268, 'sun': 1269, 'suspected': 1270, 'tears': 1271, 'threat': 1272, 'todays': 1273, 'tote': 1274, 'tracks': 1275, 'tree': 1276, 'trent': 1277, 'trump': 1278, 'usatoday': 1279, 'v': 1280, 'wall': 1281, 'wildfires': 1282, 'worlds': 1283, 'worry': 1284, '06': 1285, '1st': 1286, '600': 1287, 'according': 1288, 'account': 1289, 'africa': 1290, 'airlines': 1291, 'alive': 1292, 'allows': 1293, 'animal': 1294, 'ap': 1295, 'avoid': 1296, 'awesome': 1297, 'begin': 1298, 'bit': 1299, 'block': 1300, 'broken': 1301, 'burn': 1302, 'buy': 1303, 'captures': 1304, 'carrying': 1305, 'cat': 1306, 'cold': 1307, 'combo': 1308, 'common': 1309, 'complete': 1310, 'cover': 1311, 'cranes': 1312, 'crime': 1313, 'cruz': 1314, 'dan': 1315, 'disease': 1316, 'dr': 1317, 'drunk': 1318, 'earlier': 1319, 'edm': 1320, 'feet': 1321, 'five': 1322, 'football': 1323, 'forever': 1324, 'ft': 1325, 'future': 1326, 'glass': 1327, 'guide': 1328, 'hi': 1329, 'ice': 1330, 'image': 1331, 'incident': 1332, 'insurer': 1333, 'jeb': 1334, 'linked': 1335, 'lose': 1336, 'lucky': 1337, 'matter': 1338, 'millions': 1339, 'minutes': 1340, 'mix': 1341, 'most': 1342, 'nc': 1343, 'office': 1344, 'orders': 1345, 'owner': 1346, 'p': 1347, 'palestinian': 1348, 'paul': 1349, 'played': 1350, 'population': 1351, 'president': 1352, 'program': 1353, 'purse': 1354, 'radiation': 1355, 'reasons': 1356, 'region': 1357, 'richmond': 1358, 'rocky': 1359, 'runs': 1360, 'saving': 1361, 'search': 1362, 'seek': 1363, 'seeks': 1364, 'selfimage': 1365, 'sensorsenso': 1366, 'single': 1367, 'sismo': 1368, 'snow': 1369, 'social': 1370, 'special': 1371, 'specially': 1372, 'stadium': 1373, 'technology': 1374, 'test': 1375, 'text': 1376, 'together': 1377, 'took': 1378, 'trees': 1379, 'updates': 1380, 'upset': 1381, 'usually': 1382, 'victim': 1383, 'vote': 1384, 'wife': 1385, 'woke': 1386, 'wtf': 1387, 'wwii': 1388, '©': 1389, '14': 1390, '18': 1391, '1980': 1392, '22': 1393, '31': 1394, '4000': 1395, '500': 1396, '90': 1397, 'afghanistan': 1398, 'along': 1399, 'amazon': 1400, 'among': 1401, 'answer': 1402, 'app': 1403, 'areas': 1404, 'arianagrande': 1405, 'articles': 1406, 'ask': 1407, 'based': 1408, 'battlefield': 1409, 'bay': 1410, 'beat': 1411, 'bin': 1412, 'birthday': 1413, 'bitch': 1414, 'board': 1415, 'box': 1416, 'brought': 1417, 'budget': 1418, 'build': 1419, 'c130': 1420, 'cable': 1421, 'calls': 1422, 'cancer': 1423, 'cases': 1424, 'chicago': 1425, 'close': 1426, 'colour': 1427, 'confirms': 1428, 'continue': 1429, 'cops': 1430, 'create': 1431, 'crying': 1432, 'currently': 1433, 'deadly': 1434, 'dogs': 1435, 'dying': 1436, 'either': 1437, 'fantasy': 1438, 'faux': 1439, 'fears': 1440, 'fighting': 1441, 'fine': 1442, 'forecast': 1443, 'french': 1444, 'friday': 1445, 'genocide': 1446, 'grows': 1447, 'hearing': 1448, 'hello': 1449, 'hold': 1450, 'hospital': 1451, 'hunt': 1452, 'imagine': 1453, 'irandeal': 1454, 'iraq': 1455, 'issue': 1456, 'kick': 1457, 'kit': 1458, 'later': 1459, 'leading': 1460, 'legacy': 1461, 'less': 1462, 'manchester': 1463, 'mediterranean': 1464, 'meet': 1465, 'message': 1466, 'million': 1467, 'modified': 1468, 'motorcyclist': 1469, 'none': 1470, 'oklahoma': 1471, 'outlook': 1472, 'pathogens': 1473, 'pdp': 1474, 'perfect': 1475, 'pool': 1476, 'prevent': 1477, 'queen': 1478, 'quite': 1479, 'rate': 1480, 'reading': 1481, 'related': 1482, 'return': 1483, 'rip': 1484, 'rn': 1485, 'route': 1486, 'san': 1487, 'science': 1488, 'screen': 1489, 'seems': 1490, 'setting': 1491, 'shall': 1492, 'ships': 1493, 'shut': 1494, 'signed': 1495, 'sir': 1496, 'sit': 1497, 'sleeping': 1498, 'soldiers': 1499, 'son': 1500, 'spaceship': 1501, 'squad': 1502, 'starts': 1503, 'straight': 1504, 'stream': 1505, 'sunday': 1506, 'ta': 1507, 'tablet': 1508, 'tension': 1509, 'time20150806': 1510, 'tired': 1511, 'too': 1512, 'tram': 1513, 'trfc': 1514, 'tribal': 1515, 'understand': 1516, 'units': 1517, 'usgs': 1518, 'using': 1519, 'version': 1520, 'wedding': 1521, 'weird': 1522, 'welcome': 1523, 'which': 1524, 'wish': 1525, 'worldnews': 1526, 'worth': 1527, 'yo': 1528, '2011': 1529, '4x4': 1530, '911': 1531, 'abandoned': 1532, 'able': 1533, 'accidents': 1534, 'actions': 1535, 'advisory': 1536, 'al': 1537, 'apparently': 1538, 'ar': 1539, 'asked': 1540, 'attacks': 1541, 'babies': 1542, 'began': 1543, 'ben': 1544, 'bicyclist': 1545, 'blocked': 1546, 'books': 1547, 'bout': 1548, 'brain': 1549, 'burns': 1550, 'canyon': 1551, 'capsizes': 1552, 'careful': 1553, 'ceo': 1554, 'character': 1555, 'civilian': 1556, 'civilians': 1557, 'co': 1558, 'coffee': 1559, 'community': 1560, 'completely': 1561, 'conference': 1562, 'cook': 1563, 'cost': 1564, 'da': 1565, 'damaged': 1566, 'dangerous': 1567, 'david': 1568, 'directioners': 1569, 'disco': 1570, 'dnb': 1571, 'dream': 1572, 'dropped': 1573, 'dubstep': 1574, 'easy': 1575, 'economic': 1576, 'edt': 1577, 'el': 1578, 'epicentre': 1579, 'everywhere': 1580, 'examining': 1581, 'except': 1582, 'exploration': 1583, 'extreme': 1584, 'falls': 1585, 'final': 1586, 'fleets': 1587, 'fog': 1588, 'followers': 1589, 'forces': 1590, 'forget': 1591, 'foxnews': 1592, 'gay': 1593, 'gov': 1594, 'greatest': 1595, 'grow': 1596, 'guardian': 1597, 'handbags': 1598, 'hands': 1599, 'hawaii': 1600, 'held': 1601, 'helping': 1602, 'highway': 1603, 'hilarious': 1604, 'his': 1605, 'hobbit': 1606, 'hobo': 1607, 'honestly': 1608, 'hwo': 1609, 'hwy': 1610, 'illegal': 1611, 'indeed': 1612, 'inundation': 1613, 'joe': 1614, 'justinbieber': 1615, 'keeps': 1616, 'kid': 1617, 'laden': 1618, 'lead': 1619, 'leads': 1620, 'learning': 1621, 'lie': 1622, 'lifted': 1623, 'lights': 1624, 'lil': 1625, 'limited': 1626, 'local': 1627, 'main': 1628, 'meeting': 1629, 'mile': 1630, 'mind': 1631, 'moved': 1632, 'municipal': 1633, 'ny': 1634, 'ocean': 1635, 'off': 1636, 'opening': 1637, 'opens': 1638, 'percent': 1639, 'pics': 1640, 'pile': 1641, 'pilot': 1642, 'player': 1643, 'portland': 1644, 'posts': 1645, 'potential': 1646, 'practice': 1647, 'pressure': 1648, 'pussy': 1649, 'quickly': 1650, 'rail': 1651, 'release': 1652, 'relief': 1653, 'remove': 1654, 'repair': 1655, 'replace': 1656, 'residents': 1657, 'result': 1658, 'review': 1659, 'ridge': 1660, 'round': 1661, 'seat': 1662, 'sensor': 1663, 'sh': 1664, 'shame': 1665, 'simple': 1666, 'somebody': 1667, 'stage': 1668, 'stealing': 1669, 'steve': 1670, 'stopped': 1671, 'supposed': 1672, 'syrian': 1673, 'talking': 1674, 'target': 1675, 'tent': 1676, 'terrorists': 1677, 'their': 1678, 'these': 1679, 'those': 1680, 'thunderstorms': 1681, 'thx': 1682, 'tickets': 1683, 'totaling': 1684, 'township': 1685, 'tweets': 1686, 'twice': 1687, 'veterans': 1688, 'wa': 1689, 'waiting': 1690, 'wars': 1691, 'window': 1692, 'wired': 1693, 'wmata': 1694, '1000': 1695, '26': 1696, '300w': 1697, '320': 1698, '53inch': 1699, 'acres': 1700, 'afternoon': 1701, 'against': 1702, 'ah': 1703, 'aim': 1704, 'allah': 1705, 'amazing': 1706, 'annual': 1707, 'apartment': 1708, 'apply': 1709, 'arabia': 1710, 'arrived': 1711, 'attention': 1712, 'australian': 1713, 'avoiding': 1714, 'baseball': 1715, 'bear': 1716, 'bet': 1717, 'blog': 1718, 'blvd': 1719, 'bombings': 1720, 'boys': 1721, 'brazil': 1722, 'bro': 1723, 'broadway': 1724, 'bruh': 1725, 'burst': 1726, 'canaanites': 1727, 'charity': 1728, 'chief': 1729, 'cinema': 1730, 'clutch': 1731, 'companies': 1732, 'concert': 1733, 'conditions': 1734, 'congress': 1735, 'continues': 1736, 'cop': 1737, 'costs': 1738, 'crackdown': 1739, 'crap': 1740, 'curved': 1741, 'dark': 1742, 'di': 1743, 'discovered': 1744, 'disney': 1745, 'djicemoon': 1746, 'door': 1747, 'down': 1748, 'drill': 1749, 'drinking': 1750, 'drop': 1751, 'em': 1752, 'ended': 1753, 'energy': 1754, 'england': 1755, 'equipment': 1756, 'estimate': 1757, 'evil': 1758, 'exchange': 1759, 'f': 1760, 'facebook': 1761, 'fell': 1762, 'flat': 1763, 'freakiest': 1764, 'grill': 1765, 'guns': 1766, 'ha': 1767, 'headed': 1768, 'hill': 1769, 'hits': 1770, 'hunters': 1771, 'hurts': 1772, 'icemoon': 1773, 'ices\\x89û': 1774, 'ii': 1775, 'impact': 1776, 'including': 1777, 'inj': 1778, 'interview': 1779, 'into': 1780, 'invoices': 1781, 'ir': 1782, 'italian': 1783, 'it\\x89ûªs': 1784, 'jack': 1785, 'july': 1786, 'kidnapped': 1787, 'knew': 1788, 'kombat': 1789, 'late': 1790, 'lion': 1791, 'list': 1792, 'loose': 1793, 'lovely': 1794, 'loving': 1795, 'lt': 1796, 'lt3': 1797, 'malaysian': 1798, 'markets': 1799, 'massive': 1800, 'mention': 1801, 'mill': 1802, 'minecraft': 1803, 'missed': 1804, 'moments': 1805, 'mortal': 1806, 'ms': 1807, 'mt': 1808, 'nah': 1809, 'needed': 1810, 'notices': 1811, 'nursing': 1812, 'o784': 1813, 'picture': 1814, 'plus': 1815, 'points': 1816, 'pop': 1817, 'powerlines': 1818, 'preparedness': 1819, 'prime': 1820, 'protect': 1821, 'question': 1822, 'quick': 1823, 'rains': 1824, 'rare': 1825, 'realise': 1826, 'recovery': 1827, 'reduce': 1828, 'releases': 1829, 'remains': 1830, 'republicans': 1831, 'respond': 1832, 'roads': 1833, 'roof': 1834, 'rule': 1835, 'rì': 1836, 'salem': 1837, 'satellite': 1838, 'saturday': 1839, 'seattle': 1840, 'secrets': 1841, 'seriously': 1842, 'seven': 1843, 'shadow': 1844, 'shares': 1845, 'shoes': 1846, 'sidelines': 1847, 'size': 1848, 'sleep': 1849, 'slightly': 1850, 'smh': 1851, 'society': 1852, 'somalia': 1853, 'soundcloud': 1854, 'spent': 1855, 'sport': 1856, 'sports': 1857, 'spos': 1858, 'stone': 1859, 'storms': 1860, 'strategy': 1861, 'streets': 1862, 'struck': 1863, 'stupid': 1864, 'swallows': 1865, 'system': 1866, 't': 1867, 'ten': 1868, 'terrible': 1869, 'then': 1870, 'thomas': 1871, 'through': 1872, 'tonto': 1873, 'track': 1874, 'trapmusic': 1875, 'trip': 1876, 'troops': 1877, 'tropical': 1878, 'un': 1879, 'universe': 1880, 'videos': 1881, 'vine': 1882, 'vuitton': 1883, 'ways': 1884, 'word': 1885, 'wx': 1886, 'yesterday': 1887, 'you\\x89ûªve': 1888, 'yrs': 1889, 'yyc': 1890, '1945': 1891, '35': 1892, 'abstorm': 1893, 'access': 1894, 'accidentally': 1895, 'add': 1896, 'adult': 1897, 'af': 1898, 'aid': 1899, 'aka': 1900, 'alaska': 1901, 'allow': 1902, 'americans': 1903, 'amsterdam': 1904, 'anchorage': 1905, 'animalrescue': 1906, 'anti': 1907, 'antioch': 1908, 'approaches': 1909, 'asking': 1910, 'associated': 1911, 'audio': 1912, 'authorities': 1913, 'automatic': 1914, 'bathroom': 1915, 'because': 1916, 'before': 1917, 'beginning': 1918, 'begins': 1919, 'bells': 1920, 'beyhive': 1921, 'boston': 1922, 'bottom': 1923, 'bought': 1924, 'bringing': 1925, 'browser': 1926, 'built': 1927, 'button': 1928, 'by\\x89û': 1929, 'calling': 1930, 'calories': 1931, 'carry': 1932, 'certain': 1933, 'china\\x89ûªs': 1934, 'chinese': 1935, 'choice': 1936, 'church': 1937, 'civil': 1938, 'click': 1939, 'club': 1940, 'complex': 1941, 'computer': 1942, 'confirm': 1943, 'cream': 1944, 'created': 1945, 'crossed': 1946, 'debt': 1947, 'defense': 1948, 'documents': 1949, 'dollar': 1950, 'dozens': 1951, 'dramatic': 1952, 'drone': 1953, 'during': 1954, 'eat': 1955, 'economy': 1956, 'edition': 1957, 'effort': 1958, 'electronic': 1959, 'ems': 1960, 'ends': 1961, 'epic': 1962, 'eruption': 1963, 'especially': 1964, 'exactly': 1965, 'executives': 1966, 'exit': 1967, 'exp': 1968, 'experience': 1969, 'external': 1970, 'extremely': 1971, 'faan': 1972, 'fail': 1973, 'failed': 1974, 'feed': 1975, 'female': 1976, 'fired': 1977, 'floor': 1978, 'focus': 1979, 'forced': 1980, 'fort': 1981, 'fox': 1982, 'foxtrot': 1983, 'generation': 1984, 'george': 1985, 'german': 1986, 'girlfriend': 1987, 'gm': 1988, 'gods': 1989, 'gotten': 1990, 'gta': 1991, 'guillermo': 1992, 'gunfire': 1993, 'heres': 1994, 'hotel': 1995, 'humanity': 1996, 'humans': 1997, 'hungry': 1998, 'ideas': 1999, 'ie': 2000, 'incredible': 2001, 'inner': 2002, 'intensity': 2003, 'iphone': 2004, 'italy': 2005, 'itunes': 2006, 'jackson': 2007, 'john': 2008, 'justice': 2009, 'kept': 2010, 'kindle': 2011, 'kisii': 2012, 'knows': 2013, 'lane': 2014, 'laws': 2015, 'leader': 2016, 'let\\x89ûªs': 2017, 'levels': 2018, 'listening': 2019, 'loss': 2020, 'lots': 2021, 'lowndes': 2022, 'luck': 2023, 'mac': 2024, 'madinah': 2025, 'magic': 2026, 'maintenance': 2027, 'management': 2028, 'mary': 2029, 'max': 2030, 'maximum': 2031, 'mayan': 2032, 'md': 2033, 'medical': 2034, 'mediterran': 2035, 'mentions': 2036, 'mets': 2037, 'mexico': 2038, 'mhtw4fnet': 2039, 'microlight': 2040, 'migrant': 2041, 'miles': 2042, 'mini': 2043, 'minister': 2044, 'mission': 2045, 'monogram': 2046, 'moon': 2047, 'movies': 2048, 'mr': 2049, 'mtvhottest': 2050, 'mumbai': 2051, 'murdered': 2052, 'named': 2053, 'nashville': 2054, 'nature': 2055, 'newest': 2056, 'nine': 2057, 'nytimes': 2058, 'officers': 2059, 'officially': 2060, 'okwx': 2061, 'onto': 2062, 'operation': 2063, 'original': 2064, 'page': 2065, 'parenthood': 2066, 'parker': 2067, 'parleys': 2068, 'passing': 2069, 'patient': 2070, 'photography': 2071, 'pilots': 2072, 'pipe': 2073, 'plague': 2074, 'poll': 2075, 'powerful': 2076, 'price': 2077, 'problems': 2078, 'project': 2079, 'prophetmuhammad': 2080, 'prosecuted': 2081, 'quote': 2082, 'quran': 2083, 'ran': 2084, 'ray': 2085, 'rear': 2086, 'rea\\x89û': 2087, 'relatives': 2088, 'remembering': 2089, 'residential': 2090, 'respect': 2091, 'rest': 2092, 'results': 2093, 'riots': 2094, 'rocks': 2095, 'rohingya': 2096, 'root': 2097, 'rubber': 2098, 'sale': 2099, 'santa': 2100, 'scary': 2101, 'se': 2102, 'seconds': 2103, 'sees': 2104, 'september': 2105, 'several': 2106, 'shelter': 2107, 'shower': 2108, 'sister': 2109, 'solar': 2110, 'standuser': 2111, 'stops': 2112, 'style': 2113, 'subject': 2114, 'surrounded': 2115, 'survival': 2116, 'sw': 2117, 'sweet': 2118, 'syria': 2119, 'tcot': 2120, 'tech': 2121, 'ted': 2122, 'than': 2123, 'theatre': 2124, 'thoughts': 2125, 'threatens': 2126, 'tips': 2127, 'toilet': 2128, 'tom': 2129, 'tongue': 2130, 'touch': 2131, 'tough': 2132, 'trailer': 2133, 'triggered': 2134, 'tryna': 2135, 'tube': 2136, 'tubestrike': 2137, 'type': 2138, 'unless': 2139, 'unveiled': 2140, 'updated': 2141, 'utc': 2142, 'va': 2143, 'very': 2144, 'vinyl': 2145, 'visit': 2146, 'voice': 2147, 'warnings': 2148, 'warns': 2149, 'wash': 2150, 'watched': 2151, 'within': 2152, 'workers': 2153, 'write': 2154, 'writing': 2155, 'xbox': 2156, 'xd': 2157, 'ya': 2158, '101': 2159, '10th': 2160, '21': 2161, '23': 2162, '33': 2163, '4wd': 2164, 'abcnews': 2165, 'abuse': 2166, 'active': 2167, 'activity': 2168, 'address': 2169, 'admits': 2170, 'advance': 2171, 'afghan': 2172, 'afterlife': 2173, 'again': 2174, 'alert': 2175, 'alps': 2176, 'angel': 2177, 'animals': 2178, 'arms': 2179, 'arrive': 2180, 'article': 2181, 'asap': 2182, 'australias': 2183, 'av': 2184, 'averted': 2185, 'aware': 2186, 'awful': 2187, 'b4': 2188, 'bank': 2189, 'bargain': 2190, 'battling': 2191, 'bb17': 2192, 'becomes': 2193, 'been': 2194, 'beyonce': 2195, 'be\\x89û': 2196, 'bjp': 2197, 'blackberry': 2198, 'blamed': 2199, 'blessings': 2200, 'blk': 2201, 'blocking': 2202, 'blow': 2203, 'blows': 2204, 'bluejays': 2205, 'bob': 2206, 'bounty': 2207, 'bowl': 2208, 'brakes': 2209, 'bride': 2210, 'broad': 2211, 'buffalo': 2212, 'butter': 2213, 'c': 2214, 'calif': 2215, 'calm': 2216, 'campus': 2217, 'captain': 2218, 'card': 2219, 'cdc': 2220, 'characters': 2221, 'charging': 2222, 'cheese': 2223, 'chicagoarea': 2224, 'christians': 2225, 'classic': 2226, 'clean': 2227, 'clearly': 2228, 'client': 2229, 'clip': 2230, 'clothes': 2231, 'cofounder': 2232, 'collection': 2233, 'collisionno': 2234, 'commercial': 2235, 'communities': 2236, 'conflict': 2237, 'considering': 2238, 'copilot': 2239, 'correction': 2240, 'countries': 2241, 'crashes': 2242, 'criminals': 2243, 'cry': 2244, 'cup': 2245, 'cute': 2246, 'cuz': 2247, 'cyclist': 2248, 'damages': 2249, 'dare': 2250, 'daughter': 2251, 'deals': 2252, 'debate': 2253, 'decided': 2254, 'degree': 2255, 'delays': 2256, 'demand': 2257, 'depth': 2258, 'design': 2259, 'desire': 2260, 'destiny': 2261, 'details': 2262, 'diet': 2263, 'disneys': 2264, 'disrupts': 2265, 'distance': 2266, 'diving': 2267, 'doubt': 2268, 'drawn': 2269, 'drones': 2270, 'dry': 2271, 'dvd': 2272, 'easily': 2273, 'education': 2274, 'efforts': 2275, 'elevated': 2276, 'emotions': 2277, 'enemy': 2278, 'enjoy': 2279, 'entertainment': 2280, 'ep': 2281, 'error': 2282, 'explosionproof': 2283, 'extra': 2284, 'falcon': 2285, 'father': 2286, 'feminists': 2287, 'festival': 2288, 'field': 2289, 'fighters': 2290, 'fill': 2291, 'fingers': 2292, 'firefighter': 2293, 'fish': 2294, 'fix': 2295, 'florida': 2296, 'flying': 2297, 'fr': 2298, 'freedom': 2299, 'fruit': 2300, 'fucked': 2301, 'fuel': 2302, 'fwy': 2303, 'gabon': 2304, 'gang': 2305, 'gaza': 2306, 'germany': 2307, 'given': 2308, 'goal': 2309, 'golf': 2310, 'google': 2311, 'grade': 2312, 'grey': 2313, 'grief\\x89ûª': 2314, 'gtgtgt': 2315, 'gusts': 2316, 'h': 2317, 'hd': 2318, 'heads': 2319, 'hearts': 2320, 'heaven': 2321, 'heroes': 2322, 'hills': 2323, 'him': 2324, 'hole': 2325, 'holy': 2326, 'homeless': 2327, 'hopefully': 2328, 'housing': 2329, 'huffman': 2330, 'huh': 2331, 'hurt': 2332, 'i5': 2333, 'idp': 2334, 'iii': 2335, 'images': 2336, 'include': 2337, 'increased': 2338, 'insane': 2339, 'investigation': 2340, 'iranian': 2341, 'i\\x89ûªm': 2342, 'jam': 2343, 'jamaica': 2344, 'japans': 2345, 'jesus': 2346, 'jewish': 2347, 'joy': 2348, 'judge': 2349, 'kaduna': 2350, 'kicked': 2351, 'knee': 2352, 'known': 2353, 'lack': 2354, 'larger': 2355, 'league': 2356, 'lethal': 2357, 'lgbt': 2358, 'library': 2359, 'linkury': 2360, 'load': 2361, 'looked': 2362, 'loop': 2363, 'looting': 2364, 'lorries': 2365, 'losing': 2366, 'loves': 2367, 'lower': 2368, 'lungs': 2369, 'machine': 2370, 'mail': 2371, 'manager': 2372, 'mansehra': 2373, 'maria': 2374, 'meatloving': 2375, 'memorial': 2376, 'michigan': 2377, 'mido': 2378, 'mikeparractor': 2379, 'mlb': 2380, 'mma': 2381, 'mo': 2382, 'mood': 2383, 'motorcycle': 2384, 'mourning': 2385, 'moves': 2386, 'multiplayer': 2387, 'multiple': 2388, 'murderous': 2389, 'mystery': 2390, 'nd': 2391, 'nema': 2392, 'nobody': 2393, 'nose': 2394, 'np': 2395, 'nu': 2396, 'nuke': 2397, 'odeon': 2398, 'offer': 2399, 'of\\x89û': 2400, 'olympic': 2401, 'once': 2402, 'oops': 2403, 'opened': 2404, 'option': 2405, 'owners': 2406, 'packs': 2407, 'pak': 2408, 'palestine': 2409, 'palms': 2410, 'paper': 2411, 'parts': 2412, 'path': 2413, 'patrick': 2414, 'pc': 2415, 'pepper': 2416, 'personal': 2417, 'persons': 2418, 'philly': 2419, 'physical': 2420, 'picked': 2421, 'piling': 2422, 'plate': 2423, 'playoffs': 2424, 'political': 2425, 'port': 2426, 'pov': 2427, 'poverty': 2428, 'prices': 2429, 'prison': 2430, 'profile': 2431, 'promise': 2432, 'promises': 2433, 'prophet': 2434, 'protector': 2435, 'protest': 2436, 'ps': 2437, 'pump': 2438, 'purple': 2439, 'putting': 2440, 'quest': 2441, 'questions': 2442, 'raid': 2443, 'rally': 2444, 'rapidly': 2445, 'reach': 2446, 'read\\x89û': 2447, 'reality': 2448, 'realized': 2449, 'recommend': 2450, 'reduced': 2451, 'register': 2452, 'remain': 2453, 'reno': 2454, 'reportedly': 2455, 'reporting': 2456, 'republican': 2457, 'responds': 2458, 'responsible': 2459, 'revealed': 2460, 'reviews': 2461, 'reward': 2462, 'rights': 2463, 'rises': 2464, 'rising': 2465, 'roll': 2466, 'romance': 2467, 'row': 2468, 'runway': 2469, 'sadly': 2470, 'safe': 2471, 'satchel': 2472, 'schedule': 2473, 'scheme': 2474, 'sean': 2475, 'senator': 2476, 'senior': 2477, 'sentinel': 2478, 'shipping': 2479, 'shop': 2480, 'sicily': 2481, 'simulate': 2482, 'sing': 2483, 'sinjar': 2484, 'sittwe': 2485, 'situation': 2486, 'skin': 2487, 'smithsonian': 2488, 'snap': 2489, 'socialnews': 2490, 'solution': 2491, 'somehow': 2492, 'southern': 2493, 'spanish': 2494, 'sparked': 2495, 'spider': 2496, 'springs': 2497, 'stabbing': 2498, 'stars': 2499, 'starting': 2500, 'statement': 2501, 'status': 2502, 'steel': 2503, 'stephen': 2504, 'steps': 2505, 'stir': 2506, 'store': 2507, 'stranded': 2508, 'strange': 2509, 'strategicpatience': 2510, 'streak': 2511, 'structure': 2512, 'structures': 2513, 'stuart': 2514, 'student': 2515, 'study': 2516, 'subs': 2517, 'such': 2518, 'suffering': 2519, 'summerfate': 2520, 'sunset': 2521, 'surprise': 2522, 'surprised': 2523, 'swim': 2524, 'swimming': 2525, 'sydney': 2526, 'tank': 2527, 'tax': 2528, 'tbt': 2529, 'tea': 2530, 'telling': 2531, 'tells': 2532, 'tempered': 2533, 'tennessee': 2534, 'th': 2535, 'throwing': 2536, 'thus': 2537, 'toronto': 2538, 'tour': 2539, 'towards': 2540, 'tracking': 2541, 'traditional': 2542, 'trafford': 2543, 'trap': 2544, 'treat': 2545, 'treatment': 2546, 'trial': 2547, 'truly': 2548, 'ugly': 2549, 'ultimate': 2550, 'unit': 2551, 'unlocked': 2552, 'unsafe': 2553, 'upper': 2554, 'users': 2555, 'uses': 2556, 'valley': 2557, 'vehicles': 2558, 'violence': 2559, 'warship': 2560, 'waste': 2561, 'wearing': 2562, 'weed': 2563, 'weeks': 2564, 'wet': 2565, 'wheavenly': 2566, 'wings': 2567, 'wins': 2568, 'wonderful': 2569, 'wondering': 2570, 'worked': 2571, 'worried': 2572, 'ww1': 2573, 'yay': 2574, 'yea': 2575, 'yobe': 2576, 'yourself': 2577, 'yr': 2578, 'z10': 2579, 'zombie': 2580, '\\x89û÷politics': 2581, '125': 2582, '13000': 2583, '2009': 2584, '2030': 2585, '27': 2586, '29': 2587, '300': 2588, '34': 2589, '3d': 2590, '48': 2591, '5000': 2592, '6aug': 2593, '731': 2594, '80': 2595, '800': 2596, '80s': 2597, '852015': 2598, '86': 2599, '97georgia': 2600, 'accused': 2601, 'accuses': 2602, 'activated': 2603, 'acts': 2604, 'actual': 2605, 'afraid': 2606, 'agreed': 2607, 'alberta': 2608, 'alleged': 2609, 'allowed': 2610, 'americas': 2611, 'america\\x89ûªs': 2612, 'amongst': 2613, 'analysis': 2614, 'angeles': 2615, 'answers': 2616, 'anybody': 2617, 'anyway': 2618, 'apple': 2619, 'appreciate': 2620, 'arabian': 2621, 'asia': 2622, 'asian': 2623, 'asleep': 2624, 'assistance': 2625, 'atlanta': 2626, 'aussie': 2627, 'auth': 2628, 'average': 2629, 'bare': 2630, 'base': 2631, 'bat': 2632, 'bath': 2633, 'battery': 2634, 'beam': 2635, 'bears': 2636, 'beats': 2637, 'became': 2638, 'bedroom': 2639, 'bees': 2640, 'beforeitsnews': 2641, 'bell': 2642, 'benefits': 2643, 'betrayed': 2644, 'bid': 2645, 'biker': 2646, 'biological': 2647, 'birds': 2648, 'bitches': 2649, 'blame': 2650, 'blasts': 2651, 'bless': 2652, 'blessed': 2653, 'blind': 2654, 'boot': 2655, 'bored': 2656, 'boxer': 2657, 'bp': 2658, 'breakingnews': 2659, 'brings': 2660, 'brothers': 2661, 'brutally': 2662, 'buckle': 2663, 'bug': 2664, 'bulletin': 2665, 'bullets': 2666, 'caitlin': 2667, 'cakes': 2668, 'calamity': 2669, 'californias': 2670, 'can\\x89ûªt': 2671, 'capacity': 2672, 'captured': 2673, 'cast': 2674, 'catch': 2675, 'cats': 2676, 'caution': 2677, 'cave': 2678, 'cell': 2679, 'centipede': 2680, 'certainly': 2681, 'challenge': 2682, 'changed': 2683, 'charge': 2684, 'charles': 2685, 'charlie': 2686, 'charts': 2687, 'chelsea': 2688, 'christmas': 2689, 'cia': 2690, 'cigarette': 2691, 'cities': 2692, 'claim': 2693, 'clash': 2694, 'clear': 2695, 'clev': 2696, 'cleveland': 2697, 'clinton': 2698, 'clouds': 2699, 'coastal': 2700, 'cock': 2701, 'code': 2702, 'collapses': 2703, 'combined': 2704, 'comments': 2705, 'concerned': 2706, 'concerns': 2707, 'consider': 2708, 'constantly': 2709, 'cord': 2710, 'cos': 2711, 'cotton': 2712, 'couples': 2713, 'cousin': 2714, 'covered': 2715, 'covers': 2716, 'crack': 2717, 'cramer': 2718, 'crater': 2719, 'crew': 2720, 'crowd': 2721, 'cum': 2722, 'cupcake': 2723, 'dallas': 2724, 'darude': 2725, 'daughters': 2726, 'definitely': 2727, 'degrees': 2728, 'democracy': 2729, 'deputies': 2730, 'derails': 2731, 'derby': 2732, 'detectado': 2733, 'diamond': 2734, 'dick': 2735, 'discovery': 2736, 'diss': 2737, 'dk': 2738, 'doctor': 2739, 'dragon': 2740, 'dress': 2741, 'drove': 2742, 'drug': 2743, 'dtn': 2744, 'dutch': 2745, 'duty': 2746, 'ear': 2747, 'earrings': 2748, 'eastern': 2749, 'eating': 2750, 'eb': 2751, 'ebike': 2752, 'eden': 2753, 'election': 2754, 'electrical': 2755, 'elephant': 2756, 'emotionally': 2757, 'engine': 2758, 'english': 2759, 'enjoyed': 2760, 'enjoying': 2761, 'entered': 2762, 'environment': 2763, 'epilepsy': 2764, 'equal': 2765, 'estimated': 2766, 'europe': 2767, 'events': 2768, 'eventually': 2769, 'everyday': 2770, 'evidence': 2771, 'ex': 2772, 'excellent': 2773, 'excited': 2774, 'exist': 2775, 'experiments': 2776, 'expert': 2777, 'explains': 2778, 'faced': 2779, 'fake': 2780, 'fallen': 2781, 'fam': 2782, 'fantastic': 2783, 'fate': 2784, 'fav': 2785, 'fbi': 2786, 'feeding': 2787, 'fergusons': 2788, 'fettilootch': 2789, 'fifth': 2790, 'fights': 2791, 'finds': 2792, 'finnish': 2793, 'fishing': 2794, 'fits': 2795, 'flags': 2796, 'flew': 2797, 'floyds': 2798, 'fly': 2799, 'follows': 2800, 'forbes': 2801, 'forgot': 2802, 'forward': 2803, 'fresh': 2804, 'funds': 2805, 'gained': 2806, 'georgia': 2807, 'gift': 2808, 'gps': 2809, 'grab': 2810, 'grace': 2811, 'grateful': 2812, 'grenade': 2813, 'groups': 2814, 'gusty': 2815, 'hated': 2816, 'haunting': 2817, 'heading': 2818, 'heights': 2819, 'here\\x89ûªs': 2820, 'hieroglyphics': 2821, 'hip': 2822, 'holiday': 2823, 'holland': 2824, 'honors': 2825, 'horrific': 2826, 'hughes': 2827, 'humidity': 2828, 'i77': 2829, 'idc': 2830, 'idfire': 2831, 'idk': 2832, 'igers': 2833, 'impossible': 2834, 'impressed': 2835, 'increase': 2836, 'individuals': 2837, 'injuryi495': 2838, 'innocent': 2839, 'insurers': 2840, 'integrity': 2841, 'interest': 2842, 'internal': 2843, 'invalid': 2844, 'involved': 2845, 'irish': 2846, 'i\\x89û': 2847, 'i\\x89ûªve': 2848, 'j': 2849, 'jacksonville': 2850, 'japìn': 2851, 'jeans': 2852, 'jet': 2853, 'jst': 2854, 'karymsky': 2855, 'kerricktrial': 2856, 'kiernan': 2857, 'kurdish': 2858, 'kurtschlichter': 2859, 'landfall': 2860, 'lands': 2861, 'largest': 2862, 'laugh': 2863, 'laughing': 2864, 'law': 2865, 'leaders': 2866, 'leg': 2867, 'legal': 2868, 'legit': 2869, 'lightening': 2870, 'lip': 2871, 'loan': 2872, 'location': 2873, 'logo': 2874, 'lonewolffur': 2875, 'longest': 2876, 'los': 2877, 'losses': 2878, 'lowly': 2879, 'lulgzimbestpicts': 2880, 'lunch': 2881, 'majority': 2882, 'mall': 2883, 'mama': 2884, 'mark': 2885, 'marked': 2886, 'materials': 2887, 'meals': 2888, 'meant': 2889, 'member': 2890, 'memes': 2891, 'memory': 2892, 'mens': 2893, 'mental': 2894, 'mess': 2895, 'method': 2896, 'miami': 2897, 'mike': 2898, 'militant': 2899, 'min': 2900, 'minds': 2901, 'mining': 2902, 'mitigation': 2903, 'mitt\\x89û\\x9d': 2904, 'morgan': 2905, 'moth': 2906, 'mother': 2907, 'motor': 2908, 'movement': 2909, 'msf': 2910, 'muscle': 2911, 'museum': 2912, 'muslim': 2913, 'nasa': 2914, 'nasahurricane': 2915, 'nasty': 2916, 'naved': 2917, 'negative': 2918, 'newyork': 2919, 'nfl': 2920, 'nicki': 2921, 'normal': 2922, 'notice': 2923, 'numbered': 2924, 'numbers': 2925, 'nurse': 2926, 'nw': 2927, 'occasion': 2928, 'offensive\\x89ûª': 2929, 'offers': 2930, 'often': 2931, 'okanagan': 2932, 'opposite': 2933, 'oppressions': 2934, 'options': 2935, 'orange': 2936, 'otrametlife': 2937, 'outdoor': 2938, 'overnight': 2939, 'pace': 2940, 'pacific': 2941, 'painting': 2942, 'palestinians': 2943, 'pam': 2944, 'pantherattack': 2945, 'parking': 2946, 'passed': 2947, 'pbban': 2948, 'peaceful': 2949, 'peanut': 2950, 'perhaps': 2951, 'phones': 2952, 'photoshop': 2953, 'pieces': 2954, 'pipeline': 2955, 'pitch': 2956, 'plains': 2957, 'planted': 2958, 'plot': 2959, 'pls': 2960, 'plug': 2961, 'pond': 2962, 'positive': 2963, 'posted': 2964, 'prabhu': 2965, 'predict': 2966, 'predicted': 2967, 'prefer': 2968, 'prepared': 2969, 'pres': 2970, 'present': 2971, 'previously': 2972, 'primary': 2973, 'prince': 2974, 'prior': 2975, 'private': 2976, 'pro': 2977, 'probe': 2978, 'produced': 2979, 'profit': 2980, 'progress': 2981, 'providence': 2982, 'psychiatric': 2983, 'pulled': 2984, 'pulls': 2985, 'putin': 2986, 'quality': 2987, 'race': 2988, 'radar': 2989, 'rage': 2990, 'raining': 2991, 'range': 2992, 'rape': 2993, 'realdonaldtrump': 2994, 'reap': 2995, 'recalls': 2996, 'recent': 2997, 'recently': 2998, 'recipes': 2999, 'recognize': 3000, 'recover': 3001, 'remembered': 3002, 'reminds': 3003, 'rep': 3004, 'restricted': 3005, 'returned': 3006, 'richard': 3007, 'rid': 3008, 'ride': 3009, 'rider': 3010, 'ridiculous': 3011, 'ring': 3012, 'robert': 3013, 'rocket': 3014, 'rockyfire': 3015, 'rolling': 3016, 'rome': 3017, 'rs': 3018, 'sa': 3019, 'sac': 3020, 'safer': 3021, 'sanctions': 3022, 'sarah': 3023, 'sat': 3024, 'schools': 3025, 'score': 3026, 'scott': 3027, 'selfie': 3028, 'selfies': 3029, 'senate': 3030, 'sending': 3031, 'serial': 3032, 'served': 3033, 'sets': 3034, 'settlement': 3035, 'sexual': 3036, 'sharp': 3037, 'shell': 3038, 'shepherd': 3039, 'silence': 3040, 'sisters': 3041, 'six': 3042, 'sixth': 3043, 'skinny': 3044, 'slanglucci': 3045, 'slide': 3046, 'slow': 3047, 'smile': 3048, 'smoking': 3049, 'someones': 3050, 'sophie': 3051, 'soup': 3052, 'source': 3053, 'sources': 3054, 'southeast': 3055, 'sp': 3056, 'spain': 3057, 'specif': 3058, 'specimens': 3059, 'spend': 3060, 'spending': 3061, 'spirit': 3062, 'staff': 3063, 'stands': 3064, 'starring': 3065, 'stress': 3066, 'stuck': 3067, 'success': 3068, 'sucks': 3069, 'suffer': 3070, 'supervisor': 3071, 'supreme': 3072, 'surface': 3073, 'tampa': 3074, 'targets': 3075, 'taste': 3076, 'temporary300': 3077, 'tf': 3078, 'theory': 3079, 'thousand': 3080, 'threatening': 3081, 'thriller': 3082, 'throw': 3083, 'thru': 3084, 'time20150805': 3085, 'todd': 3086, 'toll': 3087, 'tools': 3088, 'tornadoes': 3089, 'toward': 3090, 'towel': 3091, 'transit': 3092, 'tribune': 3093, 'triple': 3094, 'tripledigit': 3095, 'trolley': 3096, 'trucks': 3097, 'turns': 3098, 'tutorial': 3099, 'twia': 3100, 'twin': 3101, 'twins': 3102, 'ty': 3103, 'uganda': 3104, 'ugh': 3105, 'underway': 3106, 'unsuckdcmetro': 3107, 'until': 3108, 'usagov': 3109, 'usual': 3110, 'utterly': 3111, 'vacant': 3112, 'val': 3113, 'values': 3114, 'van': 3115, 'vets': 3116, 'victory': 3117, 'vietnam': 3118, 'villages': 3119, 'vintage': 3120, 'viralspell': 3121, 'vulnerable': 3122, 'waimate': 3123, 'walker': 3124, 'walmart': 3125, 'warned': 3126, 'washed': 3127, 'weak': 3128, 'wealth': 3129, 'website': 3130, 'weight': 3131, 'whao': 3132, 'whether': 3133, 'while': 3134, 'wholesale': 3135, 'williams': 3136, 'willing': 3137, 'windows': 3138, 'winston': 3139, 'winter': 3140, 'wither': 3141, 'wood': 3142, 'written': 3143, 'xp': 3144, 'yorker': 3145, 'youngheroesid': 3146, 'z': 3147, 'zionist': 3148, 'zouma': 3149, '\\x89ûïa': 3150, '\\x89ûïthe': 3151, '\\x89ûïwe': 3152, '\\x89û÷extremely': 3153, 'åè': 3154, 'åê': 3155, '0104': 3156, '010401': 3157, '02': 3158, '09': 3159, '0day': 3160, '1030': 3161, '109': 3162, '1200': 3163, '150': 3164, '150401': 3165, '150foot': 3166, '1620': 3167, '18w': 3168, '200': 3169, '2005': 3170, '2008': 3171, '2010': 3172, '29072015': 3173, '2pcs': 3174, '2us': 3175, '300000': 3176, '32': 3177, '360': 3178, '361': 3179, '370': 3180, '39': 3181, '3rd': 3182, '45': 3183, '6th': 3184, '78': 3185, '8th': 3186, '95': 3187, '96': 3188, 'abbswinston': 3189, 'abe': 3190, 'ability': 3191, 'abortion': 3192, 'ac': 3193, 'accionempresa': 3194, 'acid': 3195, 'acting': 3196, 'activates': 3197, 'acute': 3198, 'adding': 3199, 'adventures': 3200, 'affecting': 3201, 'age': 3202, 'agents': 3203, 'ages': 3204, 'ahh': 3205, 'ak': 3206, 'alarms': 3207, 'alcohol': 3208, 'alright': 3209, 'alternatives': 3210, 'amirite': 3211, 'angels': 3212, 'anger': 3213, 'ankle': 3214, 'anna': 3215, 'announcement': 3216, 'annoying': 3217, 'anxiety': 3218, 'aoms': 3219, 'apch': 3220, 'apocalyptic': 3221, 'apparent': 3222, 'applications': 3223, 'arizona': 3224, 'arm': 3225, 'armed': 3226, 'arsenal': 3227, 'arts': 3228, 'arwx': 3229, 'assembly': 3230, 'attacking': 3231, 'attempt': 3232, 'attendance': 3233, 'attitude': 3234, 'at\\x89û': 3235, 'auctions': 3236, 'audience': 3237, 'aussies': 3238, 'australia\\x89ûªs': 3239, 'avenue': 3240, 'aw': 3241, 'bake': 3242, 'band': 3243, 'bands': 3244, 'barackobama': 3245, 'barely': 3246, 'barn': 3247, 'bars': 3248, 'basement': 3249, 'battleship': 3250, 'beard': 3251, 'bee': 3252, 'beer': 3253, 'beginners': 3254, 'behalf': 3255, 'believing': 3256, 'belonged': 3257, 'belongs': 3258, 'bend': 3259, 'bff': 3260, 'bill': 3261, 'birth': 3262, 'blah': 3263, 'blames': 3264, 'blizzarddraco': 3265, 'blocks': 3266, 'blowmandyup': 3267, 'bluetooth': 3268, 'bookboost': 3269, 'boom': 3270, 'bore': 3271, 'born': 3272, 'both': 3273, 'bother': 3274, 'bottle': 3275, 'bound': 3276, 'bowling': 3277, 'boyfriend': 3278, 'brady': 3279, 'braking': 3280, 'breaks': 3281, 'brian': 3282, 'briefing': 3283, 'bronx': 3284, 'brush': 3285, 'bs': 3286, 'bts': 3287, 'btw': 3288, 'btwn': 3289, 'bu': 3290, 'buddys': 3291, 'bully': 3292, 'bunch': 3293, 'buried': 3294, 'burnt': 3295, 'butt': 3296, 'buying': 3297, 'bypass': 3298, 'cabin': 3299, 'cage': 3300, 'cam': 3301, 'camera': 3302, 'campaign': 3303, 'camping': 3304, 'camps': 3305, 'cancel': 3306, 'candy': 3307, 'capital': 3308, 'capsized': 3309, 'capture': 3310, 'carried': 3311, 'carryi': 3312, 'cash': 3313, 'casper': 3314, 'castle': 3315, 'casual': 3316, 'catches': 3317, 'cbcca': 3318, 'cd': 3319, 'cecilthelion': 3320, 'chain': 3321, 'chair': 3322, 'chaos': 3323, 'charger': 3324, 'chases': 3325, 'chernobyl': 3326, 'chest': 3327, 'chevy': 3328, 'chicken': 3329, 'chiefs': 3330, 'childhood': 3331, 'chill': 3332, 'chocolate': 3333, 'choices': 3334, 'choking': 3335, 'choose': 3336, 'chosen': 3337, 'christ': 3338, 'christie': 3339, 'chunks': 3340, 'circle': 3341, 'circuit': 3342, 'cladding': 3343, 'cleanup': 3344, 'cleared': 3345, 'climb': 3346, 'closes': 3347, 'closing': 3348, 'closures': 3349, 'cloud': 3350, 'cnbc': 3351, 'coach': 3352, 'cobra': 3353, 'collision1141': 3354, 'color': 3355, 'columbia': 3356, 'combat': 3357, 'comedy': 3358, 'commit': 3359, 'communication': 3360, 'commute': 3361, 'comparison': 3362, 'compliant': 3363, 'concept': 3364, 'concern': 3365, 'condition': 3366, 'connector': 3367, 'connectorconnecto': 3368, 'conquest': 3369, 'consequence': 3370, 'constant': 3371, 'construction': 3372, 'contact': 3373, 'contained': 3374, 'contemplating': 3375, 'continued': 3376, 'controlled': 3377, 'control\\x89û\\x9d': 3378, 'cooler': 3379, 'corners': 3380, 'count': 3381, 'counter': 3382, 'courts': 3383, 'cow': 3384, 'credit': 3385, 'cricket': 3386, 'cries': 3387, 'crimes': 3388, 'criminal': 3389, 'critical': 3390, 'croatian': 3391, 'crosses': 3392, 'cryptic': 3393, 'csx': 3394, 'cta': 3395, 'cunts': 3396, 'cutting': 3397, 'cycling': 3398, 'cyclists': 3399, 'damaging': 3400, 'dannyonpc': 3401, 'dat': 3402, 'dating': 3403, 'davidvonderhaar': 3404, 'dear': 3405, 'decades': 3406, 'december': 3407, 'decide': 3408, 'decision': 3409, 'decisions': 3410, 'declared': 3411, 'delay': 3412, 'deliver': 3413, 'dem': 3414, 'demonstratio': 3415, 'dept': 3416, 'describing': 3417, 'description': 3418, 'deserves': 3419, 'designed': 3420, 'designs': 3421, 'despite': 3422, 'destroying': 3423, 'detained': 3424, 'detroit': 3425, 'devalue': 3426, 'diamondkesawn': 3427, 'digits': 3428, 'dirt': 3429, 'disappoints': 3430, 'disasters': 3431, 'disgusting': 3432, 'dj': 3433, 'doing': 3434, 'domestic': 3435, 'donald': 3436, 'dorret': 3437, 'dorrets': 3438, 'dq': 3439, 'dreams': 3440, 'drives': 3441, 'droid': 3442, 'drugs': 3443, 'drum': 3444, 'dual': 3445, 'dublin': 3446, 'earners': 3447, 'earnings': 3448, 'earthquakes': 3449, 'eaten': 3450, 'ed': 3451, 'editor': 3452, 'ee': 3453, 'egged': 3454, 'eh': 3455, 'eight': 3456, 'electric': 3457, 'elite': 3458, 'email': 3459, 'embroidered': 3460, 'en': 3461, 'encounter': 3462, 'encouragement': 3463, 'enrt': 3464, 'enter': 3465, 'entering': 3466, 'environmental': 3467, 'eq': 3468, 'er': 3469, 'esp': 3470, 'eu': 3471, 'euro': 3472, 'everyones': 3473, 'example': 3474, 'existence': 3475, 'expecting': 3476, 'experienced': 3477, 'experiencing': 3478, 'exploit': 3479, 'factors': 3480, 'factory': 3481, 'fair': 3482, 'famous': 3483, 'faroeislands': 3484, 'farrakhan': 3485, 'fashionable': 3486, 'faster': 3487, 'fb': 3488, 'feast': 3489, 'features': 3490, 'fed': 3491, 'federal': 3492, 'feelings': 3493, 'feminist': 3494, 'fennovoima': 3495, 'ferguson': 3496, 'filled': 3497, 'finger': 3498, 'finish': 3499, 'finishing': 3500, 'fireman': 3501, 'fitness': 3502, 'fkn': 3503, 'floated': 3504, 'flooded': 3505, 'foodscare': 3506, 'foot': 3507, 'footage': 3508, 'ford': 3509, 'foreign': 3510, 'formed': 3511, 'foster': 3512, 'foul': 3513, 'franklin': 3514, 'freezing': 3515, 'frog': 3516, 'frontline': 3517, 'frontpage': 3518, 'frozen': 3519, 'fuckin': 3520, 'fuels': 3521, 'fund': 3522, 'ga': 3523, 'gadgets': 3524, 'gain': 3525, 'gamergate': 3526, 'garden': 3527, 'gateau': 3528, 'gates': 3529, 'gel': 3530, 'gem': 3531, 'generally': 3532, 'gerenciatodos': 3533, 'gives': 3534, 'glorious': 3535, 'goals': 3536, 'gopdebate': 3537, 'grabbers': 3538, 'grazed': 3539, 'greeces': 3540, 'greg': 3541, 'grew': 3542, 'groom': 3543, 'grove': 3544, 'grown': 3545, 'growth': 3546, 'guard': 3547, 'guided': 3548, 'gunmen': 3549, 'gym': 3550, 'hah': 3551, 'hahaha': 3552, 'hamas': 3553, 'hamilton': 3554, 'hang': 3555, 'happiness': 3556, 'harbor': 3557, 'hardline': 3558, 'harper': 3559, 'harry': 3560, 'harrybecareful': 3561, 'hashtag': 3562, 'hatcap': 3563, 'hatchet': 3564, 'hating': 3565, 'having': 3566, 'headphones': 3567, 'healthcare': 3568, 'heartless': 3569, 'helps': 3570, 'higher': 3571, 'highest': 3572, 'hillary': 3573, 'hinton': 3574, 'hiphop': 3575, 'historic': 3576, 'hitting': 3577, 'hmm': 3578, 'hop': 3579, 'horses': 3580, 'host': 3581, 'houston': 3582, 'however': 3583, 'humanconsumption': 3584, 'hunger': 3585, 'hunk': 3586, 'hurry': 3587, 'hybrid': 3588, 'hype': 3589, 'i405': 3590, 'ian': 3591, 'ibooklove': 3592, 'icymi': 3593, 'idps': 3594, 'ig': 3595, 'ihhen': 3596, 'ik': 3597, 'illinois': 3598, 'immediately': 3599, 'individual': 3600, 'indonesia': 3601, 'initial': 3602, 'ink': 3603, 'inning': 3604, 'inst': 3605, 'instagram': 3606, 'installation': 3607, 'instant': 3608, 'interested': 3609, 'interviews': 3610, 'invasion': 3611, 'ireland': 3612, 'itunesmusic': 3613, 'jan': 3614, 'jax': 3615, 'jays': 3616, 'jazz': 3617, 'jimmyfallon': 3618, 'joel': 3619, 'johannesburg': 3620, 'johnson': 3621, 'joining': 3622, 'joke': 3623, 'jupiters': 3624, 'just\\x89û': 3625, 'kalle': 3626, 'karachi': 3627, 'kca': 3628, 'key': 3629, 'kind': 3630, 'kings': 3631, 'knoxville': 3632, 'korea': 3633, 'kyle': 3634, 'l': 3635, 'labs': 3636, 'laid': 3637, 'lanes': 3638, 'langley': 3639, 'languages': 3640, 'lately': 3641, 'latestnews': 3642, 'lay': 3643, 'leadership': 3644, 'leaves': 3645, 'legendary': 3646, 'legion': 3647, 'lego': 3648, 'leisure': 3649, 'len': 3650, 'leo': 3651, 'lesbian': 3652, 'lessons': 3653, 'letters': 3654, 'letting': 3655, 'leveled': 3656, 'lez': 3657, 'lifetime': 3658, 'lifting': 3659, 'lighting': 3660, 'links': 3661, 'listed': 3662, 'listenbuy': 3663, 'listenlive': 3664, 'lived': 3665, 'lmfao': 3666, 'localarsonist': 3667, 'local\\x89û': 3668, 'lock': 3669, 'locker': 3670, 'log': 3671, 'logic': 3672, 'lonely': 3673, 'longs': 3674, 'looping': 3675, 'loses': 3676, 'm194': 3677, 'madison': 3678, 'magginoodle': 3679, 'magnum': 3680, 'maj': 3681, 'mansion': 3682, 'marijuana': 3683, 'marine': 3684, 'marker': 3685, 'marketing': 3686, 'married': 3687, 'marvel': 3688, 'maryland': 3689, 'matches': 3690, 'mate': 3691, 'mattson': 3692, 'mcilroy': 3693, 'meaning': 3694, 'measurement': 3695, 'meat': 3696, 'medieval': 3697, 'mega': 3698, 'mentally': 3699, 'mentioned': 3700, 'mercury': 3701, 'mercy': 3702, 'metrics': 3703, 'mf': 3704, 'michael5sos': 3705, 'microsoft': 3706, 'mid': 3707, 'milkshake': 3708, 'minaj': 3709, 'ministers': 3710, 'minor': 3711, 'minority': 3712, 'mins': 3713, 'mirage': 3714, 'mnpdnashville': 3715, 'model': 3716, 'models': 3717, 'modiministry': 3718, 'moral': 3719, 'mountaineering': 3720, 'mountains': 3721, 'mud': 3722, 'mullah': 3723, 'mum': 3724, 'murderers': 3725, 'nap': 3726, 'nation': 3727, 'nations': 3728, 'navbl': 3729, 'nb': 3730, 'ne': 3731, 'nepal': 3732, 'nestleindia': 3733, 'newsintweets': 3734, 'nickcannon': 3735, 'nigeria': 3736, 'nike': 3737, 'nm': 3738, 'noaa': 3739, 'noise': 3740, 'non': 3741, 'noncompliant': 3742, 'northeast': 3743, 'note': 3744, 'notifications': 3745, 'nri': 3746, 'ns': 3747, 'nude': 3748, 'nuggets': 3749, 'nyt': 3750, 'o': 3751, 'oc': 3752, 'occupants': 3753, 'occurs': 3754, 'odds': 3755, 'offensiveåêcontent': 3756, 'offers2go': 3757, 'ohio': 3758, 'older': 3759, 'omars': 3760, 'onlinecommunities': 3761, 'ontario': 3762, 'ooh': 3763, 'openly': 3764, 'oper': 3765, 'operations': 3766, 'opinion': 3767, 'opposition': 3768, 'ops': 3769, 'opus': 3770, 'org': 3771, 'origin': 3772, 'os': 3773, 'other': 3774, 'otherwise': 3775, 'outflow': 3776, 'own': 3777, 'pack': 3778, 'panel': 3779, 'paramedic': 3780, 'passenger': 3781, 'password': 3782, 'patch': 3783, 'patched': 3784, 'pattern': 3785, 'pays': 3786, 'peeps': 3787, 'penalties': 3788, 'per': 3789, 'permanent': 3790, 'pets': 3791, 'photographer': 3792, 'pillow': 3793, 'places': 3794, 'plaguing': 3795, 'planet': 3796, 'planning': 3797, 'plant': 3798, 'players': 3799, 'plays': 3800, 'pockets': 3801, 'politics': 3802, 'popular': 3803, 'porn': 3804, 'portion': 3805, 'possibly': 3806, 'prayers': 3807, 'pre': 3808, 'precipitation': 3809, 'pregnant': 3810, 'premature': 3811, 'premium': 3812, 'previous': 3813, 'print': 3814, 'procedures': 3815, 'proceeds': 3816, 'projects': 3817, 'prompts': 3818, 'propertycasualty': 3819, 'protests': 3820, 'provide': 3821, 'ptsd': 3822, 'ptsdchat': 3823, 'pull': 3824, 'pulling': 3825, 'pun': 3826, 'purchase': 3827, 'queens': 3828, 'quotes': 3829, 'racist': 3830, 'radioactive': 3831, 'railway': 3832, 'ramag': 3833, 'random': 3834, 'raynbowaffair': 3835, 'reaches': 3836, 'realize': 3837, 'realmandyrain': 3838, 'recall': 3839, 'recap': 3840, 'recorded': 3841, 'recycling': 3842, 'redlight': 3843, 'refugee': 3844, 'regarding': 3845, 'registered': 3846, 'regret': 3847, 'regular': 3848, 'reminder': 3849, 'removal': 3850, 'repeat': 3851, 'replacing': 3852, 'required': 3853, 'reshapes': 3854, 'resources': 3855, 'responsibility': 3856, 'restaurant': 3857, 'restore': 3858, 'resulted': 3859, 'retail': 3860, 'retweet': 3861, 'revenues': 3862, 'revolution': 3863, 'rexyy': 3864, 'rickperry': 3865, 'ripped': 3866, 'roanoke': 3867, 'rob': 3868, 'robinson': 3869, 'robots': 3870, 'rockin': 3871, 'role': 3872, 'roller': 3873, 'rose': 3874, 'royal': 3875, 'ruined': 3876, 'runner': 3877, 'rwy': 3878, 'ryan': 3879, 'saddlebrooke': 3880, 'safely': 3881, 'salmon': 3882, 'salvation': 3883, 'sampling': 3884, 'sandiego': 3885, 'sassy': 3886, 'savebees': 3887, 'scars': 3888, 'schiphol': 3889, 'scientists': 3890, 'scifi': 3891, 'screenshots': 3892, 'seasons': 3893, 'seem': 3894, 'seemed': 3895, 'sends': 3896, 'servers': 3897, 'sewing': 3898, 'sexy': 3899, 'shakes': 3900, 'shanghai': 3901, 'shared': 3902, 'sharethis': 3903, 'shedding': 3904, 'shipwreck': 3905, 'shirt': 3906, 'shitty': 3907, 'shock': 3908, 'shocked': 3909, 'showcase': 3910, 'showed': 3911, 'sigalert': 3912, 'sight': 3913, 'silent': 3914, 'silvergray': 3915, 'sin': 3916, 'singing': 3917, 'sites': 3918, 'sized': 3919, 'skies': 3920, 'skills': 3921, 'skirt': 3922, 'slate': 3923, 'slayer': 3924, 'slip': 3925, 'slips': 3926, 'slower': 3927, 'sm': 3928, 'smash': 3929, 'smoky': 3930, 'snapchat': 3931, 'soak': 3932, 'soccer': 3933, 'socialism': 3934, 'solid': 3935, 'solve': 3936, 'songs': 3937, 'sort': 3938, 'soudelors': 3939, 'souls': 3940, 'southampton': 3941, 'southbound': 3942, 'soviet': 3943, 'sparks': 3944, 'speaker': 3945, 'speaking': 3946, 'spears': 3947, 'specific': 3948, 'spinningbot': 3949, 'split': 3950, 'sprinter': 3951, 'square': 3952, 'stacey': 3953, 'stamp': 3954, 'standing': 3955, 'startup': 3956, 'station': 3957, 'stats': 3958, 'step': 3959, 'stepped': 3960, 'stereo': 3961, 'stick': 3962, 'stomach': 3963, 'stressed': 3964, 'stylish': 3965, 'suddenly': 3966, 'suffered': 3967, 'superhero': 3968, 'supernatural': 3969, 'supports': 3970, 'suppose': 3971, 'surf': 3972, 'suv': 3973, 'swansea': 3974, 'swarm': 3975, 'swear': 3976, 'sweden': 3977, 'swells': 3978, 'swing': 3979, 'swiss': 3980, 'sws': 3981, 'sx': 3982, 'systems': 3983, 's\\x89û': 3984, 'table': 3985, 'tab\\x89û': 3986, 'tag': 3987, 'talks': 3988, 'tape': 3989, 'targeting': 3990, 'tastes': 3991, 'taxiways': 3992, 'tdp': 3993, 'teacher': 3994, 'teachers': 3995, 'teams': 3996, 'telegraph': 3997, 'temper': 3998, 'terms': 3999, 'terrifying': 4000, 'tests': 4001, 'tflbusalerts': 4002, 'that\\x89ûªs': 4003, 'therapy': 4004, 'the\\x89û': 4005, 'thin': 4006, 'thinks': 4007, 'third': 4008, 'threats': 4009, 'threw': 4010, 'throwingknifes': 4011, 'ticket': 4012, 'tide': 4013, 'tie': 4014, 'til': 4015, 'tinyjecht': 4016, 'titan': 4017, 'title': 4018, 'tmp': 4019, 'toe': 4020, 'tomorrows': 4021, 'tons': 4022, 'tool': 4023, 'torch': 4024, 'tr': 4025, 'transformation': 4026, 'transporting': 4027, 'trials': 4028, 'tries': 4029, 'trs': 4030, 'trubgme': 4031, 'ts': 4032, 'tuesday': 4033, 'tune': 4034, 'tuned': 4035, 'tunnel': 4036, 'turbine': 4037, 'uber': 4038, 'ud': 4039, 'ultimalucha': 4040, 'unavoidable': 4041, 'unawares': 4042, 'undercover': 4043, 'understanding': 4044, 'unhappiness': 4045, 'uniform': 4046, 'unions': 4047, 'university': 4048, 'unlocking': 4049, 'urgent': 4050, 'uribe': 4051, 'user': 4052, 'usnwsgov': 4053, 'ut': 4054, 'utter': 4055, 'vampiro': 4056, 'vancouver': 4057, 'variety': 4058, 'vegas': 4059, 'vegetarian': 4060, 'venezuela': 4061, 'verdict': 4062, 'vermont': 4063, 'vest': 4064, 'vet': 4065, 'vid': 4066, 'villagers': 4067, 'vip': 4068, 'visited': 4069, 'votejkt48id': 4070, 'voter': 4071, 'voting': 4072, 'walls': 4073, 'wannabe': 4074, 'wanting': 4075, 'warcraft': 4076, 'warfighting': 4077, 'warm': 4078, 'warming': 4079, 'warn': 4080, 'warne': 4081, 'warships': 4082, 'washingtonpost': 4083, 'waterresistant': 4084, 'waterways': 4085, 'wayne': 4086, 'wear': 4087, 'wedaug5th': 4088, 'wee': 4089, 'welfare': 4090, 'whales': 4091, 'whipped': 4092, 'wht': 4093, 'wicked': 4094, 'widespread': 4095, 'wire': 4096, 'wireless': 4097, 'wnd': 4098, 'wom': 4099, 'workplace': 4100, 'works': 4101, 'worldnetdaily': 4102, 'worstsummerjob': 4103, 'wound': 4104, 'wrapup': 4105, 'wwi': 4106, 'wy': 4107, 'yahoo': 4108, 'yahoonews': 4109, 'yazidis': 4110, 'yemen': 4111, 'yugvani': 4112, 'zakbagans': 4113, '\\x89ûïhatchet': 4114, 'å¨': 4115})\n"
          ]
        }
      ]
    },
    {
      "cell_type": "code",
      "source": [
        "train"
      ],
      "metadata": {
        "colab": {
          "base_uri": "https://localhost:8080/"
        },
        "id": "TJf5300p1JJI",
        "outputId": "fe98768a-5b78-4e64-dbb8-163a13164090"
      },
      "execution_count": 51,
      "outputs": [
        {
          "output_type": "execute_result",
          "data": {
            "text/plain": [
              "<torchtext.legacy.data.dataset.TabularDataset at 0x7fa8e7328a60>"
            ]
          },
          "metadata": {},
          "execution_count": 51
        }
      ]
    },
    {
      "cell_type": "code",
      "source": [
        "print(label_field.vocab.stoi)"
      ],
      "metadata": {
        "colab": {
          "base_uri": "https://localhost:8080/"
        },
        "id": "Vh8q3fkk_oYS",
        "outputId": "87a39d82-997d-4886-a31a-92c5c285bd3e"
      },
      "execution_count": 33,
      "outputs": [
        {
          "output_type": "stream",
          "name": "stdout",
          "text": [
            "defaultdict(<bound method Vocab._default_unk_index of <torchtext.legacy.vocab.Vocab object at 0x7fa8e56d2be0>>, {'<unk>': 0, '0': 1, '1': 2})\n"
          ]
        }
      ]
    },
    {
      "cell_type": "code",
      "source": [],
      "metadata": {
        "id": "7CYq1Ba__oWj"
      },
      "execution_count": 33,
      "outputs": []
    },
    {
      "cell_type": "code",
      "source": [
        "# Iterators\n",
        "\n",
        "train_iter = BucketIterator(train, batch_size=32, sort_key=lambda x: len(x.text),\n",
        "                            device=device, sort=True, sort_within_batch=True)\n",
        "\n",
        "test_iter = BucketIterator(test, batch_size=32, sort_key=lambda x: len(x.text),\n",
        "                            device=device, sort=True, sort_within_batch=True)\n",
        "\n",
        "# Vocabulary\n"
      ],
      "metadata": {
        "id": "uL1tKjwokion"
      },
      "execution_count": 34,
      "outputs": []
    },
    {
      "cell_type": "code",
      "source": [],
      "metadata": {
        "id": "zMB9SAC5lbiT"
      },
      "execution_count": 34,
      "outputs": []
    },
    {
      "cell_type": "code",
      "source": [
        "for batch in train_iter:\n",
        "    text, text_lengths = batch.text \n",
        "    print(text)\n",
        "    print(text_lengths)\n",
        "    break"
      ],
      "metadata": {
        "colab": {
          "base_uri": "https://localhost:8080/"
        },
        "id": "kRBlwcNslnvU",
        "outputId": "4b1aea6c-4874-421d-8a49-b2d2402be1b2"
      },
      "execution_count": 48,
      "outputs": [
        {
          "output_type": "stream",
          "name": "stdout",
          "text": [
            "tensor([[   0,   78],\n",
            "        [   0,  414],\n",
            "        [3218,   64],\n",
            "        [ 102, 1754],\n",
            "        [   0,  268],\n",
            "        [   0,    1],\n",
            "        [ 545,    1],\n",
            "        [3958,    1],\n",
            "        [ 378,    1],\n",
            "        [ 389,    1],\n",
            "        [ 467,    1],\n",
            "        [ 191,    1],\n",
            "        [ 517,    1],\n",
            "        [ 228,    1],\n",
            "        [ 730,    1],\n",
            "        [ 545,    1],\n",
            "        [ 517,    1],\n",
            "        [ 545,    1],\n",
            "        [ 355,    1],\n",
            "        [ 545,    1],\n",
            "        [ 677,    1],\n",
            "        [3011,    1],\n",
            "        [ 420,    1],\n",
            "        [ 648,    1],\n",
            "        [   0,    1],\n",
            "        [ 466,    1],\n",
            "        [ 378,    1],\n",
            "        [  38,    1],\n",
            "        [ 730,    1],\n",
            "        [ 203,    1],\n",
            "        [   0,    1],\n",
            "        [ 395,    1]])\n",
            "tensor([2, 2, 2, 2, 2, 1, 1, 1, 1, 1, 1, 1, 1, 1, 1, 1, 1, 1, 1, 1, 1, 1, 1, 1,\n",
            "        1, 1, 1, 1, 1, 1, 1, 1])\n"
          ]
        }
      ]
    },
    {
      "cell_type": "code",
      "source": [
        "import torch.nn as nn\n",
        "\n",
        "class classifier(nn.Module):\n",
        "    \n",
        "    #define all the layers used in model\n",
        "    def __init__(self, vocab_size, embedding_dim, hidden_dim, output_dim, n_layers, \n",
        "                 bidirectional, dropout):\n",
        "        \n",
        "        #Constructor\n",
        "        super().__init__()          \n",
        "        \n",
        "        #embedding layer\n",
        "        self.embedding = nn.Embedding(vocab_size, embedding_dim)\n",
        "        \n",
        "        #lstm layer\n",
        "        self.lstm = nn.LSTM(embedding_dim, \n",
        "                           hidden_dim, \n",
        "                           num_layers=n_layers, \n",
        "                           bidirectional=bidirectional, \n",
        "                           dropout=dropout,\n",
        "                           batch_first=True)\n",
        "        \n",
        "        #dense layer\n",
        "        self.fc = nn.Linear(hidden_dim * 2, output_dim)\n",
        "        \n",
        "        #activation function\n",
        "        self.dropout1=nn.Dropout(dropout)\n",
        "        self.act = nn.Sigmoid()\n",
        "        \n",
        "    def forward(self, text, text_lengths):\n",
        "        \n",
        "        #text = [batch size,sent_length]\n",
        "        embedded = self.embedding(text)\n",
        "        #embedded = [batch size, sent_len, emb dim]\n",
        "      \n",
        "        #packed sequence\n",
        "        packed_embedded = nn.utils.rnn.pack_padded_sequence(embedded, text_lengths,batch_first=True)\n",
        "        \n",
        "        packed_output, (hidden, cell) = self.lstm(packed_embedded)\n",
        "        #hidden = [batch size, num layers * num directions,hid dim]\n",
        "        #cell = [batch size, num layers * num directions,hid dim]\n",
        "        \n",
        "        #concat the final forward and backward hidden state\n",
        "        hidden = torch.cat((hidden[-2,:,:], hidden[-1,:,:]), dim = 1)\n",
        "                \n",
        "        #hidden = [batch size, hid dim * num directions]\n",
        "        hidden1=self.dropout1(hidden)\n",
        "        dense_outputs=self.fc(hidden1)\n",
        "        \n",
        "        #Final activation function\n",
        "        outputs=self.act(dense_outputs)\n",
        "        \n",
        "        return outputs"
      ],
      "metadata": {
        "id": "GdHTJiu0l6Oe"
      },
      "execution_count": 36,
      "outputs": []
    },
    {
      "cell_type": "code",
      "source": [
        "size_of_vocab = len(text_field.vocab)\n",
        "embedding_dim = 100\n",
        "num_hidden_nodes = 16\n",
        "num_output_nodes = 1\n",
        "num_layers = 4\n",
        "bidirection = True\n",
        "dropout = 0.5\n",
        "\n",
        "#instantiate the model\n",
        "model = classifier(size_of_vocab, embedding_dim, num_hidden_nodes,num_output_nodes, num_layers, \n",
        "                   bidirectional = True, dropout = dropout)"
      ],
      "metadata": {
        "id": "Q2RLDZZPKyCS"
      },
      "execution_count": 37,
      "outputs": []
    },
    {
      "cell_type": "code",
      "source": [
        "print(model)"
      ],
      "metadata": {
        "colab": {
          "base_uri": "https://localhost:8080/"
        },
        "id": "HwQ0yvdhLSMF",
        "outputId": "ac476a76-c7a9-4796-80f7-eecbd608dbda"
      },
      "execution_count": 38,
      "outputs": [
        {
          "output_type": "stream",
          "name": "stdout",
          "text": [
            "classifier(\n",
            "  (embedding): Embedding(4116, 100)\n",
            "  (lstm): LSTM(100, 16, num_layers=4, batch_first=True, dropout=0.5, bidirectional=True)\n",
            "  (fc): Linear(in_features=32, out_features=1, bias=True)\n",
            "  (dropout1): Dropout(p=0.5, inplace=False)\n",
            "  (act): Sigmoid()\n",
            ")\n"
          ]
        }
      ]
    },
    {
      "cell_type": "code",
      "source": [
        "#No. of trianable parameters\n",
        "def count_parameters(model):\n",
        "    return sum(p.numel() for p in model.parameters() if p.requires_grad)\n",
        "    \n",
        "print(f'The model has {count_parameters(model):,} trainable parameters')\n"
      ],
      "metadata": {
        "colab": {
          "base_uri": "https://localhost:8080/"
        },
        "id": "lcfdcIy6LY3K",
        "outputId": "c0905b40-f4b9-486c-d877-90ea852a2896"
      },
      "execution_count": 39,
      "outputs": [
        {
          "output_type": "stream",
          "name": "stdout",
          "text": [
            "The model has 445,937 trainable parameters\n"
          ]
        }
      ]
    },
    {
      "cell_type": "code",
      "source": [
        "#Initialize the pretrained embedding\n",
        "pretrained_embeddings = text_field.vocab.vectors\n",
        "model.embedding.weight.data.copy_(pretrained_embeddings)\n",
        "\n",
        "print(pretrained_embeddings.shape)"
      ],
      "metadata": {
        "colab": {
          "base_uri": "https://localhost:8080/"
        },
        "id": "R5xvH66mLcli",
        "outputId": "4bacfa8f-2d20-4d99-d499-e2ef6a7fcf97"
      },
      "execution_count": 40,
      "outputs": [
        {
          "output_type": "stream",
          "name": "stdout",
          "text": [
            "torch.Size([4116, 100])\n"
          ]
        }
      ]
    },
    {
      "cell_type": "code",
      "source": [
        "import torch.optim as optim\n",
        "\n",
        "#define optimizer and loss\n",
        "optimizer = optim.Adam(model.parameters())\n",
        "criterion = nn.BCELoss()\n",
        "\n",
        "#define metric\n",
        "def binary_accuracy(preds, y):\n",
        "    #round predictions to the closest integer\n",
        "    rounded_preds = torch.round(preds)\n",
        "    \n",
        "    correct = (rounded_preds == y).float() \n",
        "    acc = correct.sum() / len(correct)\n",
        "    return acc\n",
        "    \n",
        "#push to cuda if available\n",
        "# model = model.to(device)\n",
        "# criterion = criterion"
      ],
      "metadata": {
        "id": "qowDgZm9Lo24"
      },
      "execution_count": 41,
      "outputs": []
    },
    {
      "cell_type": "code",
      "source": [],
      "metadata": {
        "id": "avWY6pcYuOzy"
      },
      "execution_count": 47,
      "outputs": []
    },
    {
      "cell_type": "code",
      "source": [
        "def train(model, iterator, optimizer, criterion):\n",
        "    \n",
        "    #initialize every epoch \n",
        "    epoch_loss = 0\n",
        "    epoch_acc = 0\n",
        "    \n",
        "    #set the model in training phase\n",
        "    model.train()  \n",
        "    \n",
        "    for batch in iterator:\n",
        "        \n",
        "        #resets the gradients after every batch\n",
        "        optimizer.zero_grad()   \n",
        "        \n",
        "        #retrieve text and no. of words\n",
        "        text, text_lengths = batch.text   \n",
        "        \n",
        "        #convert to 1D tensor\n",
        "        predictions = model(text, text_lengths).squeeze()  \n",
        "        \n",
        "        #compute the loss\n",
        "        loss = criterion(predictions, batch.label)        \n",
        "        \n",
        "        #compute the binary accuracy\n",
        "        acc = binary_accuracy(predictions, batch.label)   \n",
        "        \n",
        "        #backpropage the loss and compute the gradients\n",
        "        loss.backward()       \n",
        "        \n",
        "        #update the weights\n",
        "        optimizer.step()      \n",
        "        \n",
        "        #loss and accuracy\n",
        "        epoch_loss += loss.item()  \n",
        "        epoch_acc += acc.item()    \n",
        "        \n",
        "    return epoch_loss / len(iterator), epoch_acc / len(iterator)"
      ],
      "metadata": {
        "id": "x-Q7aUEGLx4m"
      },
      "execution_count": null,
      "outputs": []
    },
    {
      "cell_type": "code",
      "source": [
        "def evaluate(model, iterator, criterion):\n",
        "    \n",
        "    #initialize every epoch\n",
        "    epoch_loss = 0\n",
        "    epoch_acc = 0\n",
        "\n",
        "    #deactivating dropout layers\n",
        "    model.eval()\n",
        "    \n",
        "    #deactivates autograd\n",
        "    with torch.no_grad():\n",
        "    \n",
        "        for batch in iterator:\n",
        "        \n",
        "            #retrieve text and no. of words\n",
        "            text, text_lengths = batch.text\n",
        "            \n",
        "            #convert to 1d tensor\n",
        "            predictions = model(text, text_lengths).squeeze()\n",
        "            \n",
        "            #compute loss and accuracy\n",
        "            loss = criterion(predictions, batch.label)\n",
        "            acc = binary_accuracy(predictions, batch.label)\n",
        "            \n",
        "            #keep track of loss and accuracy\n",
        "            epoch_loss += loss.item()\n",
        "            epoch_acc += acc.item()\n",
        "        \n",
        "    return epoch_loss / len(iterator), epoch_acc / len(iterator)"
      ],
      "metadata": {
        "id": "uQLdPFWHL6dF"
      },
      "execution_count": null,
      "outputs": []
    },
    {
      "cell_type": "code",
      "source": [
        "N_EPOCHS = 10\n",
        "best_valid_loss = float('inf')\n",
        "#train the model\n",
        "loss_train=[]\n",
        "loss_valid=[]\n",
        "for epoch in range(N_EPOCHS):\n",
        "     \n",
        "    \n",
        "\n",
        "    train_loss, train_acc = train(model, train_iter, optimizer, criterion)\n",
        "    loss_train.append(train_loss)\n",
        "    #evaluate the model\n",
        "    valid_loss, valid_acc = evaluate(model, test_iter, criterion)\n",
        "    loss_valid.append(valid_loss)\n",
        "    #save the best model\n",
        "    if valid_loss < best_valid_loss:\n",
        "        best_valid_loss = valid_loss\n",
        "        torch.save(model.state_dict(), 'saved_weights.pt')\n",
        "\n",
        "    \n",
        "    print(f'\\tTrain Loss: {train_loss:.3f} | Train Acc: {train_acc*100:.2f}%')\n",
        "    print(f'\\t Val. Loss: {valid_loss:.3f} |  Val. Acc: {valid_acc*100:.2f}%')"
      ],
      "metadata": {
        "id": "xWakPjlZL_vl"
      },
      "execution_count": null,
      "outputs": []
    },
    {
      "cell_type": "code",
      "source": [
        "fig = plt.figure(figsize=(10,6))\n",
        "ax = fig.add_subplot(1,1,1)\n",
        "ax.plot(loss_train, label='train loss')\n",
        "ax.plot(loss_valid, label='valid loss')\n",
        "plt.legend()\n",
        "ax.set_xlabel('updates')\n",
        "ax.set_ylabel('loss');"
      ],
      "metadata": {
        "id": "cYROshepQoyR"
      },
      "execution_count": null,
      "outputs": []
    },
    {
      "cell_type": "code",
      "source": [
        "#load weights\n",
        "path='/content/saved_weights.pt'\n",
        "model.load_state_dict(torch.load(path));\n",
        "model.eval();\n",
        "\n",
        "#inference \n",
        "import spacy\n",
        "nlp = spacy.load('en_core_web_sm')\n",
        "\n",
        "def predict(model, sentence):\n",
        "    tokenized = [tok.text for tok in nlp.tokenizer(sentence)]  #tokenize the sentence \n",
        "    indexed = [text_field.vocab.stoi[t] for t in tokenized]          #convert to integer sequence\n",
        "    length = [len(indexed)]                                    #compute no. of words\n",
        "    tensor = torch.LongTensor(indexed).to(device)              #convert to tensor\n",
        "    tensor = tensor.unsqueeze(1).T                             #reshape in form of batch,no. of words\n",
        "    length_tensor = torch.LongTensor(length)                   #convert to tensor\n",
        "    prediction = model(tensor, length_tensor)                  #prediction \n",
        "    return prediction.item()                                   "
      ],
      "metadata": {
        "id": "47e346nDT20W"
      },
      "execution_count": null,
      "outputs": []
    },
    {
      "cell_type": "code",
      "source": [
        "#make predictions\n",
        "print(predict(model, \"disaster happened in turkey which had a bad earthquake\"))\n",
        "\n",
        "#insincere question\n",
        "predict(model, \"Why Indian girls go crazy about marrying Shri. Rahul Gandhi ji?\")"
      ],
      "metadata": {
        "id": "Z163Sls2UAQN"
      },
      "execution_count": null,
      "outputs": []
    },
    {
      "cell_type": "code",
      "source": [],
      "metadata": {
        "id": "hfELULqHUQnn"
      },
      "execution_count": null,
      "outputs": []
    }
  ],
  "metadata": {
    "colab": {
      "provenance": [],
      "mount_file_id": "1p6f5EAMummfvo54UPtWkGXDgCYdP6AdW",
      "authorship_tag": "ABX9TyN2zUHumMOJeKrNHvaLoyM6",
      "include_colab_link": true
    },
    "gpuClass": "standard",
    "kernelspec": {
      "display_name": "Python 3",
      "name": "python3"
    },
    "language_info": {
      "name": "python"
    }
  },
  "nbformat": 4,
  "nbformat_minor": 0
}